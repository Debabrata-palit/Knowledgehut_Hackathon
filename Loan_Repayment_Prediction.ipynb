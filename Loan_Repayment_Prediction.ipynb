{
  "cells": [
    {
      "cell_type": "markdown",
      "metadata": {
        "id": "0NoSXdjCD62O"
      },
      "source": [
        "## Loan Repayment in Banking"
      ]
    },
    {
      "cell_type": "markdown",
      "metadata": {
        "id": "OaHWeN8-ENru"
      },
      "source": [
        "### Import Required Libraries"
      ]
    },
    {
      "cell_type": "code",
      "execution_count": 2,
      "metadata": {
        "id": "iZGB-O3bCH08"
      },
      "outputs": [],
      "source": [
        "import numpy as np\n",
        "import pandas as pd\n",
        "import matplotlib.pyplot as plt\n",
        "import seaborn as sns\n",
        "import warnings\n",
        "warnings.filterwarnings('ignore')\n",
        "pd.set_option('display.max_columns',30)\n",
        "\n",
        "from sklearn.preprocessing import StandardScaler\n",
        "from sklearn.model_selection import train_test_split\n",
        "from sklearn.metrics import accuracy_score, f1_score, confusion_matrix"
      ]
    },
    {
      "cell_type": "markdown",
      "metadata": {
        "id": "Aj4bQB5IHKW7"
      },
      "source": [
        "### Load Data"
      ]
    },
    {
      "cell_type": "code",
      "execution_count": 3,
      "metadata": {
        "colab": {
          "base_uri": "https://localhost:8080/",
          "height": 330
        },
        "id": "mJVUFmZUG441",
        "outputId": "e4f6bea3-43a5-487a-e33c-50e2ace927cf"
      },
      "outputs": [
        {
          "output_type": "execute_result",
          "data": {
            "text/plain": [
              "  addr_state  annual_inc earliest_cr_line emp_length  \\\n",
              "0         CO     85000.0           Jul-97  10+ years   \n",
              "1         CA     40000.0           Apr-87  10+ years   \n",
              "2         FL     60000.0           Aug-07  10+ years   \n",
              "3         IL    100742.0           Sep-80  10+ years   \n",
              "4         MD     80000.0           Jul-99  10+ years   \n",
              "\n",
              "                        emp_title  fico_range_high  fico_range_low grade  \\\n",
              "0                          Deputy              744             740     E   \n",
              "1  Department of Veterans Affairs              724             720     B   \n",
              "2                Marble polishing              679             675     B   \n",
              "3                         printer              664             660     B   \n",
              "4                   Southern Mgmt              669             665     F   \n",
              "\n",
              "  home_ownership application_type initial_list_status  int_rate  loan_amnt  \\\n",
              "0       MORTGAGE       Individual                   w     18.99      18075   \n",
              "1           RENT       Individual                   w     10.16       8800   \n",
              "2       MORTGAGE       Individual                   w     11.47      18000   \n",
              "3       MORTGAGE       Individual                   w      9.16      20000   \n",
              "4           RENT       Individual                   f     23.83      35000   \n",
              "\n",
              "   num_actv_bc_tl  mort_acc  tot_cur_bal  open_acc  pub_rec  \\\n",
              "0             1.0       1.0     319479.0         7        0   \n",
              "1             4.0       0.0      19944.0         5        0   \n",
              "2             4.0       2.0      23199.0         7        0   \n",
              "3             4.0       1.0      72651.0        12        0   \n",
              "4            14.0       7.0      64631.0        23        0   \n",
              "\n",
              "   pub_rec_bankruptcies             purpose  revol_bal  revol_util sub_grade  \\\n",
              "0                   0.0  debt_consolidation       5338        93.6        E1   \n",
              "1                   0.0  debt_consolidation      19944        60.3        B1   \n",
              "2                   0.0  debt_consolidation      23199        88.5        B5   \n",
              "3                   0.0  debt_consolidation      18425        69.0        B2   \n",
              "4                   0.0  debt_consolidation      34370        90.0        F5   \n",
              "\n",
              "         term                title  total_acc verification_status loan_status  \n",
              "0   60 months   Debt consolidation          8     Source Verified   Defaulted  \n",
              "1   36 months          Credit Loan         12            Verified        Paid  \n",
              "2   36 months   Debt consolidation         16     Source Verified        Paid  \n",
              "3   36 months   Debt consolidation         19     Source Verified        Paid  \n",
              "4   60 months  Debt Connsolidation         59            Verified        Paid  "
            ],
            "text/html": [
              "\n",
              "  <div id=\"df-0f272334-fc68-4e36-af15-8f3d93a6e850\" class=\"colab-df-container\">\n",
              "    <div>\n",
              "<style scoped>\n",
              "    .dataframe tbody tr th:only-of-type {\n",
              "        vertical-align: middle;\n",
              "    }\n",
              "\n",
              "    .dataframe tbody tr th {\n",
              "        vertical-align: top;\n",
              "    }\n",
              "\n",
              "    .dataframe thead th {\n",
              "        text-align: right;\n",
              "    }\n",
              "</style>\n",
              "<table border=\"1\" class=\"dataframe\">\n",
              "  <thead>\n",
              "    <tr style=\"text-align: right;\">\n",
              "      <th></th>\n",
              "      <th>addr_state</th>\n",
              "      <th>annual_inc</th>\n",
              "      <th>earliest_cr_line</th>\n",
              "      <th>emp_length</th>\n",
              "      <th>emp_title</th>\n",
              "      <th>fico_range_high</th>\n",
              "      <th>fico_range_low</th>\n",
              "      <th>grade</th>\n",
              "      <th>home_ownership</th>\n",
              "      <th>application_type</th>\n",
              "      <th>initial_list_status</th>\n",
              "      <th>int_rate</th>\n",
              "      <th>loan_amnt</th>\n",
              "      <th>num_actv_bc_tl</th>\n",
              "      <th>mort_acc</th>\n",
              "      <th>tot_cur_bal</th>\n",
              "      <th>open_acc</th>\n",
              "      <th>pub_rec</th>\n",
              "      <th>pub_rec_bankruptcies</th>\n",
              "      <th>purpose</th>\n",
              "      <th>revol_bal</th>\n",
              "      <th>revol_util</th>\n",
              "      <th>sub_grade</th>\n",
              "      <th>term</th>\n",
              "      <th>title</th>\n",
              "      <th>total_acc</th>\n",
              "      <th>verification_status</th>\n",
              "      <th>loan_status</th>\n",
              "    </tr>\n",
              "  </thead>\n",
              "  <tbody>\n",
              "    <tr>\n",
              "      <th>0</th>\n",
              "      <td>CO</td>\n",
              "      <td>85000.0</td>\n",
              "      <td>Jul-97</td>\n",
              "      <td>10+ years</td>\n",
              "      <td>Deputy</td>\n",
              "      <td>744</td>\n",
              "      <td>740</td>\n",
              "      <td>E</td>\n",
              "      <td>MORTGAGE</td>\n",
              "      <td>Individual</td>\n",
              "      <td>w</td>\n",
              "      <td>18.99</td>\n",
              "      <td>18075</td>\n",
              "      <td>1.0</td>\n",
              "      <td>1.0</td>\n",
              "      <td>319479.0</td>\n",
              "      <td>7</td>\n",
              "      <td>0</td>\n",
              "      <td>0.0</td>\n",
              "      <td>debt_consolidation</td>\n",
              "      <td>5338</td>\n",
              "      <td>93.6</td>\n",
              "      <td>E1</td>\n",
              "      <td>60 months</td>\n",
              "      <td>Debt consolidation</td>\n",
              "      <td>8</td>\n",
              "      <td>Source Verified</td>\n",
              "      <td>Defaulted</td>\n",
              "    </tr>\n",
              "    <tr>\n",
              "      <th>1</th>\n",
              "      <td>CA</td>\n",
              "      <td>40000.0</td>\n",
              "      <td>Apr-87</td>\n",
              "      <td>10+ years</td>\n",
              "      <td>Department of Veterans Affairs</td>\n",
              "      <td>724</td>\n",
              "      <td>720</td>\n",
              "      <td>B</td>\n",
              "      <td>RENT</td>\n",
              "      <td>Individual</td>\n",
              "      <td>w</td>\n",
              "      <td>10.16</td>\n",
              "      <td>8800</td>\n",
              "      <td>4.0</td>\n",
              "      <td>0.0</td>\n",
              "      <td>19944.0</td>\n",
              "      <td>5</td>\n",
              "      <td>0</td>\n",
              "      <td>0.0</td>\n",
              "      <td>debt_consolidation</td>\n",
              "      <td>19944</td>\n",
              "      <td>60.3</td>\n",
              "      <td>B1</td>\n",
              "      <td>36 months</td>\n",
              "      <td>Credit Loan</td>\n",
              "      <td>12</td>\n",
              "      <td>Verified</td>\n",
              "      <td>Paid</td>\n",
              "    </tr>\n",
              "    <tr>\n",
              "      <th>2</th>\n",
              "      <td>FL</td>\n",
              "      <td>60000.0</td>\n",
              "      <td>Aug-07</td>\n",
              "      <td>10+ years</td>\n",
              "      <td>Marble polishing</td>\n",
              "      <td>679</td>\n",
              "      <td>675</td>\n",
              "      <td>B</td>\n",
              "      <td>MORTGAGE</td>\n",
              "      <td>Individual</td>\n",
              "      <td>w</td>\n",
              "      <td>11.47</td>\n",
              "      <td>18000</td>\n",
              "      <td>4.0</td>\n",
              "      <td>2.0</td>\n",
              "      <td>23199.0</td>\n",
              "      <td>7</td>\n",
              "      <td>0</td>\n",
              "      <td>0.0</td>\n",
              "      <td>debt_consolidation</td>\n",
              "      <td>23199</td>\n",
              "      <td>88.5</td>\n",
              "      <td>B5</td>\n",
              "      <td>36 months</td>\n",
              "      <td>Debt consolidation</td>\n",
              "      <td>16</td>\n",
              "      <td>Source Verified</td>\n",
              "      <td>Paid</td>\n",
              "    </tr>\n",
              "    <tr>\n",
              "      <th>3</th>\n",
              "      <td>IL</td>\n",
              "      <td>100742.0</td>\n",
              "      <td>Sep-80</td>\n",
              "      <td>10+ years</td>\n",
              "      <td>printer</td>\n",
              "      <td>664</td>\n",
              "      <td>660</td>\n",
              "      <td>B</td>\n",
              "      <td>MORTGAGE</td>\n",
              "      <td>Individual</td>\n",
              "      <td>w</td>\n",
              "      <td>9.16</td>\n",
              "      <td>20000</td>\n",
              "      <td>4.0</td>\n",
              "      <td>1.0</td>\n",
              "      <td>72651.0</td>\n",
              "      <td>12</td>\n",
              "      <td>0</td>\n",
              "      <td>0.0</td>\n",
              "      <td>debt_consolidation</td>\n",
              "      <td>18425</td>\n",
              "      <td>69.0</td>\n",
              "      <td>B2</td>\n",
              "      <td>36 months</td>\n",
              "      <td>Debt consolidation</td>\n",
              "      <td>19</td>\n",
              "      <td>Source Verified</td>\n",
              "      <td>Paid</td>\n",
              "    </tr>\n",
              "    <tr>\n",
              "      <th>4</th>\n",
              "      <td>MD</td>\n",
              "      <td>80000.0</td>\n",
              "      <td>Jul-99</td>\n",
              "      <td>10+ years</td>\n",
              "      <td>Southern Mgmt</td>\n",
              "      <td>669</td>\n",
              "      <td>665</td>\n",
              "      <td>F</td>\n",
              "      <td>RENT</td>\n",
              "      <td>Individual</td>\n",
              "      <td>f</td>\n",
              "      <td>23.83</td>\n",
              "      <td>35000</td>\n",
              "      <td>14.0</td>\n",
              "      <td>7.0</td>\n",
              "      <td>64631.0</td>\n",
              "      <td>23</td>\n",
              "      <td>0</td>\n",
              "      <td>0.0</td>\n",
              "      <td>debt_consolidation</td>\n",
              "      <td>34370</td>\n",
              "      <td>90.0</td>\n",
              "      <td>F5</td>\n",
              "      <td>60 months</td>\n",
              "      <td>Debt Connsolidation</td>\n",
              "      <td>59</td>\n",
              "      <td>Verified</td>\n",
              "      <td>Paid</td>\n",
              "    </tr>\n",
              "  </tbody>\n",
              "</table>\n",
              "</div>\n",
              "    <div class=\"colab-df-buttons\">\n",
              "\n",
              "  <div class=\"colab-df-container\">\n",
              "    <button class=\"colab-df-convert\" onclick=\"convertToInteractive('df-0f272334-fc68-4e36-af15-8f3d93a6e850')\"\n",
              "            title=\"Convert this dataframe to an interactive table.\"\n",
              "            style=\"display:none;\">\n",
              "\n",
              "  <svg xmlns=\"http://www.w3.org/2000/svg\" height=\"24px\" viewBox=\"0 -960 960 960\">\n",
              "    <path d=\"M120-120v-720h720v720H120Zm60-500h600v-160H180v160Zm220 220h160v-160H400v160Zm0 220h160v-160H400v160ZM180-400h160v-160H180v160Zm440 0h160v-160H620v160ZM180-180h160v-160H180v160Zm440 0h160v-160H620v160Z\"/>\n",
              "  </svg>\n",
              "    </button>\n",
              "\n",
              "  <style>\n",
              "    .colab-df-container {\n",
              "      display:flex;\n",
              "      gap: 12px;\n",
              "    }\n",
              "\n",
              "    .colab-df-convert {\n",
              "      background-color: #E8F0FE;\n",
              "      border: none;\n",
              "      border-radius: 50%;\n",
              "      cursor: pointer;\n",
              "      display: none;\n",
              "      fill: #1967D2;\n",
              "      height: 32px;\n",
              "      padding: 0 0 0 0;\n",
              "      width: 32px;\n",
              "    }\n",
              "\n",
              "    .colab-df-convert:hover {\n",
              "      background-color: #E2EBFA;\n",
              "      box-shadow: 0px 1px 2px rgba(60, 64, 67, 0.3), 0px 1px 3px 1px rgba(60, 64, 67, 0.15);\n",
              "      fill: #174EA6;\n",
              "    }\n",
              "\n",
              "    .colab-df-buttons div {\n",
              "      margin-bottom: 4px;\n",
              "    }\n",
              "\n",
              "    [theme=dark] .colab-df-convert {\n",
              "      background-color: #3B4455;\n",
              "      fill: #D2E3FC;\n",
              "    }\n",
              "\n",
              "    [theme=dark] .colab-df-convert:hover {\n",
              "      background-color: #434B5C;\n",
              "      box-shadow: 0px 1px 3px 1px rgba(0, 0, 0, 0.15);\n",
              "      filter: drop-shadow(0px 1px 2px rgba(0, 0, 0, 0.3));\n",
              "      fill: #FFFFFF;\n",
              "    }\n",
              "  </style>\n",
              "\n",
              "    <script>\n",
              "      const buttonEl =\n",
              "        document.querySelector('#df-0f272334-fc68-4e36-af15-8f3d93a6e850 button.colab-df-convert');\n",
              "      buttonEl.style.display =\n",
              "        google.colab.kernel.accessAllowed ? 'block' : 'none';\n",
              "\n",
              "      async function convertToInteractive(key) {\n",
              "        const element = document.querySelector('#df-0f272334-fc68-4e36-af15-8f3d93a6e850');\n",
              "        const dataTable =\n",
              "          await google.colab.kernel.invokeFunction('convertToInteractive',\n",
              "                                                    [key], {});\n",
              "        if (!dataTable) return;\n",
              "\n",
              "        const docLinkHtml = 'Like what you see? Visit the ' +\n",
              "          '<a target=\"_blank\" href=https://colab.research.google.com/notebooks/data_table.ipynb>data table notebook</a>'\n",
              "          + ' to learn more about interactive tables.';\n",
              "        element.innerHTML = '';\n",
              "        dataTable['output_type'] = 'display_data';\n",
              "        await google.colab.output.renderOutput(dataTable, element);\n",
              "        const docLink = document.createElement('div');\n",
              "        docLink.innerHTML = docLinkHtml;\n",
              "        element.appendChild(docLink);\n",
              "      }\n",
              "    </script>\n",
              "  </div>\n",
              "\n",
              "\n",
              "<div id=\"df-a55e2bc7-8ec9-4042-a1ea-893ca52951cc\">\n",
              "  <button class=\"colab-df-quickchart\" onclick=\"quickchart('df-a55e2bc7-8ec9-4042-a1ea-893ca52951cc')\"\n",
              "            title=\"Suggest charts\"\n",
              "            style=\"display:none;\">\n",
              "\n",
              "<svg xmlns=\"http://www.w3.org/2000/svg\" height=\"24px\"viewBox=\"0 0 24 24\"\n",
              "     width=\"24px\">\n",
              "    <g>\n",
              "        <path d=\"M19 3H5c-1.1 0-2 .9-2 2v14c0 1.1.9 2 2 2h14c1.1 0 2-.9 2-2V5c0-1.1-.9-2-2-2zM9 17H7v-7h2v7zm4 0h-2V7h2v10zm4 0h-2v-4h2v4z\"/>\n",
              "    </g>\n",
              "</svg>\n",
              "  </button>\n",
              "\n",
              "<style>\n",
              "  .colab-df-quickchart {\n",
              "      --bg-color: #E8F0FE;\n",
              "      --fill-color: #1967D2;\n",
              "      --hover-bg-color: #E2EBFA;\n",
              "      --hover-fill-color: #174EA6;\n",
              "      --disabled-fill-color: #AAA;\n",
              "      --disabled-bg-color: #DDD;\n",
              "  }\n",
              "\n",
              "  [theme=dark] .colab-df-quickchart {\n",
              "      --bg-color: #3B4455;\n",
              "      --fill-color: #D2E3FC;\n",
              "      --hover-bg-color: #434B5C;\n",
              "      --hover-fill-color: #FFFFFF;\n",
              "      --disabled-bg-color: #3B4455;\n",
              "      --disabled-fill-color: #666;\n",
              "  }\n",
              "\n",
              "  .colab-df-quickchart {\n",
              "    background-color: var(--bg-color);\n",
              "    border: none;\n",
              "    border-radius: 50%;\n",
              "    cursor: pointer;\n",
              "    display: none;\n",
              "    fill: var(--fill-color);\n",
              "    height: 32px;\n",
              "    padding: 0;\n",
              "    width: 32px;\n",
              "  }\n",
              "\n",
              "  .colab-df-quickchart:hover {\n",
              "    background-color: var(--hover-bg-color);\n",
              "    box-shadow: 0 1px 2px rgba(60, 64, 67, 0.3), 0 1px 3px 1px rgba(60, 64, 67, 0.15);\n",
              "    fill: var(--button-hover-fill-color);\n",
              "  }\n",
              "\n",
              "  .colab-df-quickchart-complete:disabled,\n",
              "  .colab-df-quickchart-complete:disabled:hover {\n",
              "    background-color: var(--disabled-bg-color);\n",
              "    fill: var(--disabled-fill-color);\n",
              "    box-shadow: none;\n",
              "  }\n",
              "\n",
              "  .colab-df-spinner {\n",
              "    border: 2px solid var(--fill-color);\n",
              "    border-color: transparent;\n",
              "    border-bottom-color: var(--fill-color);\n",
              "    animation:\n",
              "      spin 1s steps(1) infinite;\n",
              "  }\n",
              "\n",
              "  @keyframes spin {\n",
              "    0% {\n",
              "      border-color: transparent;\n",
              "      border-bottom-color: var(--fill-color);\n",
              "      border-left-color: var(--fill-color);\n",
              "    }\n",
              "    20% {\n",
              "      border-color: transparent;\n",
              "      border-left-color: var(--fill-color);\n",
              "      border-top-color: var(--fill-color);\n",
              "    }\n",
              "    30% {\n",
              "      border-color: transparent;\n",
              "      border-left-color: var(--fill-color);\n",
              "      border-top-color: var(--fill-color);\n",
              "      border-right-color: var(--fill-color);\n",
              "    }\n",
              "    40% {\n",
              "      border-color: transparent;\n",
              "      border-right-color: var(--fill-color);\n",
              "      border-top-color: var(--fill-color);\n",
              "    }\n",
              "    60% {\n",
              "      border-color: transparent;\n",
              "      border-right-color: var(--fill-color);\n",
              "    }\n",
              "    80% {\n",
              "      border-color: transparent;\n",
              "      border-right-color: var(--fill-color);\n",
              "      border-bottom-color: var(--fill-color);\n",
              "    }\n",
              "    90% {\n",
              "      border-color: transparent;\n",
              "      border-bottom-color: var(--fill-color);\n",
              "    }\n",
              "  }\n",
              "</style>\n",
              "\n",
              "  <script>\n",
              "    async function quickchart(key) {\n",
              "      const quickchartButtonEl =\n",
              "        document.querySelector('#' + key + ' button');\n",
              "      quickchartButtonEl.disabled = true;  // To prevent multiple clicks.\n",
              "      quickchartButtonEl.classList.add('colab-df-spinner');\n",
              "      try {\n",
              "        const charts = await google.colab.kernel.invokeFunction(\n",
              "            'suggestCharts', [key], {});\n",
              "      } catch (error) {\n",
              "        console.error('Error during call to suggestCharts:', error);\n",
              "      }\n",
              "      quickchartButtonEl.classList.remove('colab-df-spinner');\n",
              "      quickchartButtonEl.classList.add('colab-df-quickchart-complete');\n",
              "    }\n",
              "    (() => {\n",
              "      let quickchartButtonEl =\n",
              "        document.querySelector('#df-a55e2bc7-8ec9-4042-a1ea-893ca52951cc button');\n",
              "      quickchartButtonEl.style.display =\n",
              "        google.colab.kernel.accessAllowed ? 'block' : 'none';\n",
              "    })();\n",
              "  </script>\n",
              "</div>\n",
              "\n",
              "    </div>\n",
              "  </div>\n"
            ],
            "application/vnd.google.colaboratory.intrinsic+json": {
              "type": "dataframe",
              "variable_name": "df_train"
            }
          },
          "metadata": {},
          "execution_count": 3
        }
      ],
      "source": [
        "df_train = pd.read_csv(\"train_loan_data.csv\")\n",
        "df_train.head()"
      ]
    },
    {
      "cell_type": "code",
      "execution_count": 4,
      "metadata": {
        "colab": {
          "base_uri": "https://localhost:8080/",
          "height": 330
        },
        "id": "7wWneQXvzcSY",
        "outputId": "f3c9d61b-3e5d-4b76-ab25-8a7d8e27c704"
      },
      "outputs": [
        {
          "output_type": "execute_result",
          "data": {
            "text/plain": [
              "  addr_state  annual_inc earliest_cr_line emp_length  \\\n",
              "0         MO     50000.0         May-2012     1 year   \n",
              "1         HI     92000.0         Dec-2001  10+ years   \n",
              "2         TX     89000.0         Mar-1989  10+ years   \n",
              "3         CA     33000.0         Nov-2004    9 years   \n",
              "4         MI     35580.0         Feb-1997        NaN   \n",
              "\n",
              "                           emp_title  fico_range_high  fico_range_low grade  \\\n",
              "0                   Tower technician            719.0           715.0     C   \n",
              "1                         Supervisor            684.0           680.0     B   \n",
              "2            APPLICATIONS PROGRAMMER            679.0           675.0     B   \n",
              "3  San Diego Unified School District            674.0           670.0     C   \n",
              "4                                NaN            704.0           700.0     B   \n",
              "\n",
              "  home_ownership application_type initial_list_status  int_rate  loan_amnt  \\\n",
              "0            OWN       Individual                   f     13.99     5000.0   \n",
              "1           RENT       Individual                   f     10.99    30000.0   \n",
              "2       MORTGAGE       Individual                   w     10.15    16000.0   \n",
              "3           RENT       Individual                   f     13.68    10000.0   \n",
              "4       MORTGAGE       Individual                   f     14.09     4000.0   \n",
              "\n",
              "   num_actv_bc_tl  mort_acc  tot_cur_bal  open_acc  pub_rec  \\\n",
              "0             1.0       0.0      33395.0       9.0      0.0   \n",
              "1             2.0       2.0     229832.0      11.0      0.0   \n",
              "2             5.0       2.0     181616.0      15.0      0.0   \n",
              "3             6.0       0.0      30603.0      12.0      1.0   \n",
              "4             2.0       4.0     124597.0       8.0      0.0   \n",
              "\n",
              "   pub_rec_bankruptcies             purpose  revol_bal  revol_util sub_grade  \\\n",
              "0                   0.0  debt_consolidation     2568.0         9.8        C4   \n",
              "1                   0.0  debt_consolidation    30394.0        75.4        B2   \n",
              "2                   0.0         credit_card    38400.0        75.3        B2   \n",
              "3                   1.0  debt_consolidation    21224.0        69.4        C1   \n",
              "4                   0.0  debt_consolidation     3471.0        39.4        B5   \n",
              "\n",
              "         term                    title  total_acc verification_status  \n",
              "0   36 months       Debt consolidation       11.0     Source Verified  \n",
              "1   36 months       Debt consolidation       35.0     Source Verified  \n",
              "2   60 months  Credit card refinancing       41.0        Not Verified  \n",
              "3   36 months           Breathing Room       16.0        Not Verified  \n",
              "4   36 months       debitconsolidation       19.0            Verified  "
            ],
            "text/html": [
              "\n",
              "  <div id=\"df-eadef42a-d364-4ae6-942f-b3096df2ad7a\" class=\"colab-df-container\">\n",
              "    <div>\n",
              "<style scoped>\n",
              "    .dataframe tbody tr th:only-of-type {\n",
              "        vertical-align: middle;\n",
              "    }\n",
              "\n",
              "    .dataframe tbody tr th {\n",
              "        vertical-align: top;\n",
              "    }\n",
              "\n",
              "    .dataframe thead th {\n",
              "        text-align: right;\n",
              "    }\n",
              "</style>\n",
              "<table border=\"1\" class=\"dataframe\">\n",
              "  <thead>\n",
              "    <tr style=\"text-align: right;\">\n",
              "      <th></th>\n",
              "      <th>addr_state</th>\n",
              "      <th>annual_inc</th>\n",
              "      <th>earliest_cr_line</th>\n",
              "      <th>emp_length</th>\n",
              "      <th>emp_title</th>\n",
              "      <th>fico_range_high</th>\n",
              "      <th>fico_range_low</th>\n",
              "      <th>grade</th>\n",
              "      <th>home_ownership</th>\n",
              "      <th>application_type</th>\n",
              "      <th>initial_list_status</th>\n",
              "      <th>int_rate</th>\n",
              "      <th>loan_amnt</th>\n",
              "      <th>num_actv_bc_tl</th>\n",
              "      <th>mort_acc</th>\n",
              "      <th>tot_cur_bal</th>\n",
              "      <th>open_acc</th>\n",
              "      <th>pub_rec</th>\n",
              "      <th>pub_rec_bankruptcies</th>\n",
              "      <th>purpose</th>\n",
              "      <th>revol_bal</th>\n",
              "      <th>revol_util</th>\n",
              "      <th>sub_grade</th>\n",
              "      <th>term</th>\n",
              "      <th>title</th>\n",
              "      <th>total_acc</th>\n",
              "      <th>verification_status</th>\n",
              "    </tr>\n",
              "  </thead>\n",
              "  <tbody>\n",
              "    <tr>\n",
              "      <th>0</th>\n",
              "      <td>MO</td>\n",
              "      <td>50000.0</td>\n",
              "      <td>May-2012</td>\n",
              "      <td>1 year</td>\n",
              "      <td>Tower technician</td>\n",
              "      <td>719.0</td>\n",
              "      <td>715.0</td>\n",
              "      <td>C</td>\n",
              "      <td>OWN</td>\n",
              "      <td>Individual</td>\n",
              "      <td>f</td>\n",
              "      <td>13.99</td>\n",
              "      <td>5000.0</td>\n",
              "      <td>1.0</td>\n",
              "      <td>0.0</td>\n",
              "      <td>33395.0</td>\n",
              "      <td>9.0</td>\n",
              "      <td>0.0</td>\n",
              "      <td>0.0</td>\n",
              "      <td>debt_consolidation</td>\n",
              "      <td>2568.0</td>\n",
              "      <td>9.8</td>\n",
              "      <td>C4</td>\n",
              "      <td>36 months</td>\n",
              "      <td>Debt consolidation</td>\n",
              "      <td>11.0</td>\n",
              "      <td>Source Verified</td>\n",
              "    </tr>\n",
              "    <tr>\n",
              "      <th>1</th>\n",
              "      <td>HI</td>\n",
              "      <td>92000.0</td>\n",
              "      <td>Dec-2001</td>\n",
              "      <td>10+ years</td>\n",
              "      <td>Supervisor</td>\n",
              "      <td>684.0</td>\n",
              "      <td>680.0</td>\n",
              "      <td>B</td>\n",
              "      <td>RENT</td>\n",
              "      <td>Individual</td>\n",
              "      <td>f</td>\n",
              "      <td>10.99</td>\n",
              "      <td>30000.0</td>\n",
              "      <td>2.0</td>\n",
              "      <td>2.0</td>\n",
              "      <td>229832.0</td>\n",
              "      <td>11.0</td>\n",
              "      <td>0.0</td>\n",
              "      <td>0.0</td>\n",
              "      <td>debt_consolidation</td>\n",
              "      <td>30394.0</td>\n",
              "      <td>75.4</td>\n",
              "      <td>B2</td>\n",
              "      <td>36 months</td>\n",
              "      <td>Debt consolidation</td>\n",
              "      <td>35.0</td>\n",
              "      <td>Source Verified</td>\n",
              "    </tr>\n",
              "    <tr>\n",
              "      <th>2</th>\n",
              "      <td>TX</td>\n",
              "      <td>89000.0</td>\n",
              "      <td>Mar-1989</td>\n",
              "      <td>10+ years</td>\n",
              "      <td>APPLICATIONS PROGRAMMER</td>\n",
              "      <td>679.0</td>\n",
              "      <td>675.0</td>\n",
              "      <td>B</td>\n",
              "      <td>MORTGAGE</td>\n",
              "      <td>Individual</td>\n",
              "      <td>w</td>\n",
              "      <td>10.15</td>\n",
              "      <td>16000.0</td>\n",
              "      <td>5.0</td>\n",
              "      <td>2.0</td>\n",
              "      <td>181616.0</td>\n",
              "      <td>15.0</td>\n",
              "      <td>0.0</td>\n",
              "      <td>0.0</td>\n",
              "      <td>credit_card</td>\n",
              "      <td>38400.0</td>\n",
              "      <td>75.3</td>\n",
              "      <td>B2</td>\n",
              "      <td>60 months</td>\n",
              "      <td>Credit card refinancing</td>\n",
              "      <td>41.0</td>\n",
              "      <td>Not Verified</td>\n",
              "    </tr>\n",
              "    <tr>\n",
              "      <th>3</th>\n",
              "      <td>CA</td>\n",
              "      <td>33000.0</td>\n",
              "      <td>Nov-2004</td>\n",
              "      <td>9 years</td>\n",
              "      <td>San Diego Unified School District</td>\n",
              "      <td>674.0</td>\n",
              "      <td>670.0</td>\n",
              "      <td>C</td>\n",
              "      <td>RENT</td>\n",
              "      <td>Individual</td>\n",
              "      <td>f</td>\n",
              "      <td>13.68</td>\n",
              "      <td>10000.0</td>\n",
              "      <td>6.0</td>\n",
              "      <td>0.0</td>\n",
              "      <td>30603.0</td>\n",
              "      <td>12.0</td>\n",
              "      <td>1.0</td>\n",
              "      <td>1.0</td>\n",
              "      <td>debt_consolidation</td>\n",
              "      <td>21224.0</td>\n",
              "      <td>69.4</td>\n",
              "      <td>C1</td>\n",
              "      <td>36 months</td>\n",
              "      <td>Breathing Room</td>\n",
              "      <td>16.0</td>\n",
              "      <td>Not Verified</td>\n",
              "    </tr>\n",
              "    <tr>\n",
              "      <th>4</th>\n",
              "      <td>MI</td>\n",
              "      <td>35580.0</td>\n",
              "      <td>Feb-1997</td>\n",
              "      <td>NaN</td>\n",
              "      <td>NaN</td>\n",
              "      <td>704.0</td>\n",
              "      <td>700.0</td>\n",
              "      <td>B</td>\n",
              "      <td>MORTGAGE</td>\n",
              "      <td>Individual</td>\n",
              "      <td>f</td>\n",
              "      <td>14.09</td>\n",
              "      <td>4000.0</td>\n",
              "      <td>2.0</td>\n",
              "      <td>4.0</td>\n",
              "      <td>124597.0</td>\n",
              "      <td>8.0</td>\n",
              "      <td>0.0</td>\n",
              "      <td>0.0</td>\n",
              "      <td>debt_consolidation</td>\n",
              "      <td>3471.0</td>\n",
              "      <td>39.4</td>\n",
              "      <td>B5</td>\n",
              "      <td>36 months</td>\n",
              "      <td>debitconsolidation</td>\n",
              "      <td>19.0</td>\n",
              "      <td>Verified</td>\n",
              "    </tr>\n",
              "  </tbody>\n",
              "</table>\n",
              "</div>\n",
              "    <div class=\"colab-df-buttons\">\n",
              "\n",
              "  <div class=\"colab-df-container\">\n",
              "    <button class=\"colab-df-convert\" onclick=\"convertToInteractive('df-eadef42a-d364-4ae6-942f-b3096df2ad7a')\"\n",
              "            title=\"Convert this dataframe to an interactive table.\"\n",
              "            style=\"display:none;\">\n",
              "\n",
              "  <svg xmlns=\"http://www.w3.org/2000/svg\" height=\"24px\" viewBox=\"0 -960 960 960\">\n",
              "    <path d=\"M120-120v-720h720v720H120Zm60-500h600v-160H180v160Zm220 220h160v-160H400v160Zm0 220h160v-160H400v160ZM180-400h160v-160H180v160Zm440 0h160v-160H620v160ZM180-180h160v-160H180v160Zm440 0h160v-160H620v160Z\"/>\n",
              "  </svg>\n",
              "    </button>\n",
              "\n",
              "  <style>\n",
              "    .colab-df-container {\n",
              "      display:flex;\n",
              "      gap: 12px;\n",
              "    }\n",
              "\n",
              "    .colab-df-convert {\n",
              "      background-color: #E8F0FE;\n",
              "      border: none;\n",
              "      border-radius: 50%;\n",
              "      cursor: pointer;\n",
              "      display: none;\n",
              "      fill: #1967D2;\n",
              "      height: 32px;\n",
              "      padding: 0 0 0 0;\n",
              "      width: 32px;\n",
              "    }\n",
              "\n",
              "    .colab-df-convert:hover {\n",
              "      background-color: #E2EBFA;\n",
              "      box-shadow: 0px 1px 2px rgba(60, 64, 67, 0.3), 0px 1px 3px 1px rgba(60, 64, 67, 0.15);\n",
              "      fill: #174EA6;\n",
              "    }\n",
              "\n",
              "    .colab-df-buttons div {\n",
              "      margin-bottom: 4px;\n",
              "    }\n",
              "\n",
              "    [theme=dark] .colab-df-convert {\n",
              "      background-color: #3B4455;\n",
              "      fill: #D2E3FC;\n",
              "    }\n",
              "\n",
              "    [theme=dark] .colab-df-convert:hover {\n",
              "      background-color: #434B5C;\n",
              "      box-shadow: 0px 1px 3px 1px rgba(0, 0, 0, 0.15);\n",
              "      filter: drop-shadow(0px 1px 2px rgba(0, 0, 0, 0.3));\n",
              "      fill: #FFFFFF;\n",
              "    }\n",
              "  </style>\n",
              "\n",
              "    <script>\n",
              "      const buttonEl =\n",
              "        document.querySelector('#df-eadef42a-d364-4ae6-942f-b3096df2ad7a button.colab-df-convert');\n",
              "      buttonEl.style.display =\n",
              "        google.colab.kernel.accessAllowed ? 'block' : 'none';\n",
              "\n",
              "      async function convertToInteractive(key) {\n",
              "        const element = document.querySelector('#df-eadef42a-d364-4ae6-942f-b3096df2ad7a');\n",
              "        const dataTable =\n",
              "          await google.colab.kernel.invokeFunction('convertToInteractive',\n",
              "                                                    [key], {});\n",
              "        if (!dataTable) return;\n",
              "\n",
              "        const docLinkHtml = 'Like what you see? Visit the ' +\n",
              "          '<a target=\"_blank\" href=https://colab.research.google.com/notebooks/data_table.ipynb>data table notebook</a>'\n",
              "          + ' to learn more about interactive tables.';\n",
              "        element.innerHTML = '';\n",
              "        dataTable['output_type'] = 'display_data';\n",
              "        await google.colab.output.renderOutput(dataTable, element);\n",
              "        const docLink = document.createElement('div');\n",
              "        docLink.innerHTML = docLinkHtml;\n",
              "        element.appendChild(docLink);\n",
              "      }\n",
              "    </script>\n",
              "  </div>\n",
              "\n",
              "\n",
              "<div id=\"df-79ab0824-1f15-4c29-b300-205b0afd9f09\">\n",
              "  <button class=\"colab-df-quickchart\" onclick=\"quickchart('df-79ab0824-1f15-4c29-b300-205b0afd9f09')\"\n",
              "            title=\"Suggest charts\"\n",
              "            style=\"display:none;\">\n",
              "\n",
              "<svg xmlns=\"http://www.w3.org/2000/svg\" height=\"24px\"viewBox=\"0 0 24 24\"\n",
              "     width=\"24px\">\n",
              "    <g>\n",
              "        <path d=\"M19 3H5c-1.1 0-2 .9-2 2v14c0 1.1.9 2 2 2h14c1.1 0 2-.9 2-2V5c0-1.1-.9-2-2-2zM9 17H7v-7h2v7zm4 0h-2V7h2v10zm4 0h-2v-4h2v4z\"/>\n",
              "    </g>\n",
              "</svg>\n",
              "  </button>\n",
              "\n",
              "<style>\n",
              "  .colab-df-quickchart {\n",
              "      --bg-color: #E8F0FE;\n",
              "      --fill-color: #1967D2;\n",
              "      --hover-bg-color: #E2EBFA;\n",
              "      --hover-fill-color: #174EA6;\n",
              "      --disabled-fill-color: #AAA;\n",
              "      --disabled-bg-color: #DDD;\n",
              "  }\n",
              "\n",
              "  [theme=dark] .colab-df-quickchart {\n",
              "      --bg-color: #3B4455;\n",
              "      --fill-color: #D2E3FC;\n",
              "      --hover-bg-color: #434B5C;\n",
              "      --hover-fill-color: #FFFFFF;\n",
              "      --disabled-bg-color: #3B4455;\n",
              "      --disabled-fill-color: #666;\n",
              "  }\n",
              "\n",
              "  .colab-df-quickchart {\n",
              "    background-color: var(--bg-color);\n",
              "    border: none;\n",
              "    border-radius: 50%;\n",
              "    cursor: pointer;\n",
              "    display: none;\n",
              "    fill: var(--fill-color);\n",
              "    height: 32px;\n",
              "    padding: 0;\n",
              "    width: 32px;\n",
              "  }\n",
              "\n",
              "  .colab-df-quickchart:hover {\n",
              "    background-color: var(--hover-bg-color);\n",
              "    box-shadow: 0 1px 2px rgba(60, 64, 67, 0.3), 0 1px 3px 1px rgba(60, 64, 67, 0.15);\n",
              "    fill: var(--button-hover-fill-color);\n",
              "  }\n",
              "\n",
              "  .colab-df-quickchart-complete:disabled,\n",
              "  .colab-df-quickchart-complete:disabled:hover {\n",
              "    background-color: var(--disabled-bg-color);\n",
              "    fill: var(--disabled-fill-color);\n",
              "    box-shadow: none;\n",
              "  }\n",
              "\n",
              "  .colab-df-spinner {\n",
              "    border: 2px solid var(--fill-color);\n",
              "    border-color: transparent;\n",
              "    border-bottom-color: var(--fill-color);\n",
              "    animation:\n",
              "      spin 1s steps(1) infinite;\n",
              "  }\n",
              "\n",
              "  @keyframes spin {\n",
              "    0% {\n",
              "      border-color: transparent;\n",
              "      border-bottom-color: var(--fill-color);\n",
              "      border-left-color: var(--fill-color);\n",
              "    }\n",
              "    20% {\n",
              "      border-color: transparent;\n",
              "      border-left-color: var(--fill-color);\n",
              "      border-top-color: var(--fill-color);\n",
              "    }\n",
              "    30% {\n",
              "      border-color: transparent;\n",
              "      border-left-color: var(--fill-color);\n",
              "      border-top-color: var(--fill-color);\n",
              "      border-right-color: var(--fill-color);\n",
              "    }\n",
              "    40% {\n",
              "      border-color: transparent;\n",
              "      border-right-color: var(--fill-color);\n",
              "      border-top-color: var(--fill-color);\n",
              "    }\n",
              "    60% {\n",
              "      border-color: transparent;\n",
              "      border-right-color: var(--fill-color);\n",
              "    }\n",
              "    80% {\n",
              "      border-color: transparent;\n",
              "      border-right-color: var(--fill-color);\n",
              "      border-bottom-color: var(--fill-color);\n",
              "    }\n",
              "    90% {\n",
              "      border-color: transparent;\n",
              "      border-bottom-color: var(--fill-color);\n",
              "    }\n",
              "  }\n",
              "</style>\n",
              "\n",
              "  <script>\n",
              "    async function quickchart(key) {\n",
              "      const quickchartButtonEl =\n",
              "        document.querySelector('#' + key + ' button');\n",
              "      quickchartButtonEl.disabled = true;  // To prevent multiple clicks.\n",
              "      quickchartButtonEl.classList.add('colab-df-spinner');\n",
              "      try {\n",
              "        const charts = await google.colab.kernel.invokeFunction(\n",
              "            'suggestCharts', [key], {});\n",
              "      } catch (error) {\n",
              "        console.error('Error during call to suggestCharts:', error);\n",
              "      }\n",
              "      quickchartButtonEl.classList.remove('colab-df-spinner');\n",
              "      quickchartButtonEl.classList.add('colab-df-quickchart-complete');\n",
              "    }\n",
              "    (() => {\n",
              "      let quickchartButtonEl =\n",
              "        document.querySelector('#df-79ab0824-1f15-4c29-b300-205b0afd9f09 button');\n",
              "      quickchartButtonEl.style.display =\n",
              "        google.colab.kernel.accessAllowed ? 'block' : 'none';\n",
              "    })();\n",
              "  </script>\n",
              "</div>\n",
              "\n",
              "    </div>\n",
              "  </div>\n"
            ],
            "application/vnd.google.colaboratory.intrinsic+json": {
              "type": "dataframe",
              "variable_name": "df_test"
            }
          },
          "metadata": {},
          "execution_count": 4
        }
      ],
      "source": [
        "df_test = pd.read_csv(\"test_loan_data.csv\")\n",
        "df_test.head()"
      ]
    },
    {
      "cell_type": "code",
      "execution_count": 5,
      "metadata": {
        "colab": {
          "base_uri": "https://localhost:8080/"
        },
        "id": "wL9-NtV8z9aA",
        "outputId": "355f3f1a-5b54-4657-fd3f-25913c71d5dd"
      },
      "outputs": [
        {
          "output_type": "execute_result",
          "data": {
            "text/plain": [
              "((80000, 28), (20000, 27))"
            ]
          },
          "metadata": {},
          "execution_count": 5
        }
      ],
      "source": [
        "df_train.shape,df_test.shape"
      ]
    },
    {
      "cell_type": "code",
      "execution_count": 6,
      "metadata": {
        "colab": {
          "base_uri": "https://localhost:8080/"
        },
        "id": "g4OUFV-yMkvL",
        "outputId": "df79da8a-91d0-4b2e-9fdb-6aa35959bcb8"
      },
      "outputs": [
        {
          "output_type": "execute_result",
          "data": {
            "text/plain": [
              "Index(['addr_state', 'annual_inc', 'earliest_cr_line', 'emp_length',\n",
              "       'emp_title', 'fico_range_high', 'fico_range_low', 'grade',\n",
              "       'home_ownership', 'application_type', 'initial_list_status', 'int_rate',\n",
              "       'loan_amnt', 'num_actv_bc_tl', 'mort_acc', 'tot_cur_bal', 'open_acc',\n",
              "       'pub_rec', 'pub_rec_bankruptcies', 'purpose', 'revol_bal', 'revol_util',\n",
              "       'sub_grade', 'term', 'title', 'total_acc', 'verification_status',\n",
              "       'loan_status'],\n",
              "      dtype='object')"
            ]
          },
          "metadata": {},
          "execution_count": 6
        }
      ],
      "source": [
        "df_train.columns"
      ]
    },
    {
      "cell_type": "code",
      "execution_count": 7,
      "metadata": {
        "colab": {
          "base_uri": "https://localhost:8080/"
        },
        "id": "jEBSP-cp0bjH",
        "outputId": "268de6af-87e8-492c-a1d1-7f7dfb5600e7"
      },
      "outputs": [
        {
          "output_type": "execute_result",
          "data": {
            "text/plain": [
              "Index(['addr_state', 'annual_inc', 'earliest_cr_line', 'emp_length',\n",
              "       'emp_title', 'fico_range_high', 'fico_range_low', 'grade',\n",
              "       'home_ownership', 'application_type', 'initial_list_status', 'int_rate',\n",
              "       'loan_amnt', 'num_actv_bc_tl', 'mort_acc', 'tot_cur_bal', 'open_acc',\n",
              "       'pub_rec', 'pub_rec_bankruptcies', 'purpose', 'revol_bal', 'revol_util',\n",
              "       'sub_grade', 'term', 'title', 'total_acc', 'verification_status'],\n",
              "      dtype='object')"
            ]
          },
          "metadata": {},
          "execution_count": 7
        }
      ],
      "source": [
        "df_test.columns"
      ]
    },
    {
      "cell_type": "markdown",
      "metadata": {
        "id": "IZ6dgtLPI_-1"
      },
      "source": [
        "### Understand the data"
      ]
    },
    {
      "cell_type": "code",
      "execution_count": 8,
      "metadata": {
        "colab": {
          "base_uri": "https://localhost:8080/"
        },
        "id": "4TbXtVcqIDN_",
        "outputId": "66aaa802-7b6f-414c-a5a7-055c93d8bd3b"
      },
      "outputs": [
        {
          "output_type": "stream",
          "name": "stdout",
          "text": [
            "<class 'pandas.core.frame.DataFrame'>\n",
            "RangeIndex: 80000 entries, 0 to 79999\n",
            "Data columns (total 28 columns):\n",
            " #   Column                Non-Null Count  Dtype  \n",
            "---  ------                --------------  -----  \n",
            " 0   addr_state            80000 non-null  object \n",
            " 1   annual_inc            80000 non-null  float64\n",
            " 2   earliest_cr_line      80000 non-null  object \n",
            " 3   emp_length            75412 non-null  object \n",
            " 4   emp_title             74982 non-null  object \n",
            " 5   fico_range_high       80000 non-null  int64  \n",
            " 6   fico_range_low        80000 non-null  int64  \n",
            " 7   grade                 80000 non-null  object \n",
            " 8   home_ownership        80000 non-null  object \n",
            " 9   application_type      80000 non-null  object \n",
            " 10  initial_list_status   80000 non-null  object \n",
            " 11  int_rate              80000 non-null  float64\n",
            " 12  loan_amnt             80000 non-null  int64  \n",
            " 13  num_actv_bc_tl        76052 non-null  float64\n",
            " 14  mort_acc              77229 non-null  float64\n",
            " 15  tot_cur_bal           76052 non-null  float64\n",
            " 16  open_acc              80000 non-null  int64  \n",
            " 17  pub_rec               80000 non-null  int64  \n",
            " 18  pub_rec_bankruptcies  79969 non-null  float64\n",
            " 19  purpose               80000 non-null  object \n",
            " 20  revol_bal             80000 non-null  int64  \n",
            " 21  revol_util            79947 non-null  float64\n",
            " 22  sub_grade             80000 non-null  object \n",
            " 23  term                  80000 non-null  object \n",
            " 24  title                 79030 non-null  object \n",
            " 25  total_acc             80000 non-null  int64  \n",
            " 26  verification_status   80000 non-null  object \n",
            " 27  loan_status           80000 non-null  object \n",
            "dtypes: float64(7), int64(7), object(14)\n",
            "memory usage: 17.1+ MB\n"
          ]
        }
      ],
      "source": [
        "df_train.info()"
      ]
    },
    {
      "cell_type": "code",
      "execution_count": 9,
      "metadata": {
        "colab": {
          "base_uri": "https://localhost:8080/"
        },
        "id": "EXx1he_-JoMj",
        "outputId": "e32b23fd-2ed3-4452-c5af-591f3301db53"
      },
      "outputs": [
        {
          "output_type": "execute_result",
          "data": {
            "text/plain": [
              "addr_state                 0\n",
              "annual_inc                 0\n",
              "earliest_cr_line           0\n",
              "emp_length              4588\n",
              "emp_title               5018\n",
              "fico_range_high            0\n",
              "fico_range_low             0\n",
              "grade                      0\n",
              "home_ownership             0\n",
              "application_type           0\n",
              "initial_list_status        0\n",
              "int_rate                   0\n",
              "loan_amnt                  0\n",
              "num_actv_bc_tl          3948\n",
              "mort_acc                2771\n",
              "tot_cur_bal             3948\n",
              "open_acc                   0\n",
              "pub_rec                    0\n",
              "pub_rec_bankruptcies      31\n",
              "purpose                    0\n",
              "revol_bal                  0\n",
              "revol_util                53\n",
              "sub_grade                  0\n",
              "term                       0\n",
              "title                    970\n",
              "total_acc                  0\n",
              "verification_status        0\n",
              "loan_status                0\n",
              "dtype: int64"
            ]
          },
          "metadata": {},
          "execution_count": 9
        }
      ],
      "source": [
        "df_train.isnull().sum()"
      ]
    },
    {
      "cell_type": "markdown",
      "metadata": {
        "id": "UIvPZ7LRJ_-B"
      },
      "source": [
        "### Handle Missing Values"
      ]
    },
    {
      "cell_type": "code",
      "execution_count": 10,
      "metadata": {
        "colab": {
          "base_uri": "https://localhost:8080/"
        },
        "id": "8bXVbjFOJr4P",
        "outputId": "4ce1d985-0ebf-4e2f-95ee-4e7aad4fe1a6"
      },
      "outputs": [
        {
          "output_type": "execute_result",
          "data": {
            "text/plain": [
              "0        10+ years\n",
              "1        10+ years\n",
              "2        10+ years\n",
              "3        10+ years\n",
              "4        10+ years\n",
              "           ...    \n",
              "79995    10+ years\n",
              "79996    10+ years\n",
              "79997     < 1 year\n",
              "79998      3 years\n",
              "79999      2 years\n",
              "Name: emp_length, Length: 80000, dtype: object"
            ]
          },
          "metadata": {},
          "execution_count": 10
        }
      ],
      "source": [
        "df_train['emp_length']"
      ]
    },
    {
      "cell_type": "markdown",
      "metadata": {
        "id": "XItCJLZELFic"
      },
      "source": [
        "- To tackle the concern regarding non-finite values within the 'emp_length' columns during encoding, a viable approach involves converting them into integers. In particular, when substituting missing values with 0, it's possible for the 'emp_length' columns to produce non-finite values."
      ]
    },
    {
      "cell_type": "code",
      "execution_count": 11,
      "metadata": {
        "id": "ckrt8YVaKQAt"
      },
      "outputs": [],
      "source": [
        "df_train['emp_length']=df_train['emp_length'].replace('< 1 year', '0 years')\n",
        "df_train['emp_length'].fillna('0 years', inplace=True)\n",
        "df_train['emp_length']= df_train['emp_length'].str.extract('(\\d+)').astype(float).astype(int)"
      ]
    },
    {
      "cell_type": "code",
      "execution_count": 12,
      "metadata": {
        "id": "75j63TEB9rl-"
      },
      "outputs": [],
      "source": [
        "df_test['emp_length']=df_test['emp_length'].replace('< 1 year', '0 years')\n",
        "df_test['emp_length'].fillna('0 years', inplace=True)\n",
        "df_test['emp_length']= df_test['emp_length'].str.extract('(\\d+)').astype(float).astype(int)"
      ]
    },
    {
      "cell_type": "markdown",
      "metadata": {
        "id": "uaNS1nU8M2w0"
      },
      "source": [
        "- Deal with other missing values (ie, NaN)"
      ]
    },
    {
      "cell_type": "code",
      "execution_count": 13,
      "metadata": {
        "id": "0FDI-SSHM1jt"
      },
      "outputs": [],
      "source": [
        "df_train.fillna(0, inplace= True)\n",
        "df_test.fillna(0, inplace= True)"
      ]
    },
    {
      "cell_type": "code",
      "execution_count": 14,
      "metadata": {
        "colab": {
          "base_uri": "https://localhost:8080/",
          "height": 320
        },
        "id": "_-jcUNyrLjrG",
        "outputId": "be0722dd-f70d-4f6d-bc95-a62ee24e68d8"
      },
      "outputs": [
        {
          "output_type": "execute_result",
          "data": {
            "text/plain": [
              "         annual_inc    emp_length  fico_range_high  fico_range_low  \\\n",
              "count  8.000000e+04  80000.000000     80000.000000    80000.000000   \n",
              "mean   7.604614e+04      5.623037       699.987975      695.987813   \n",
              "std    6.902006e+04      3.837232        31.734840       31.734075   \n",
              "min    0.000000e+00      0.000000       664.000000      660.000000   \n",
              "25%    4.600000e+04      2.000000       674.000000      670.000000   \n",
              "50%    6.500000e+04      6.000000       694.000000      690.000000   \n",
              "75%    9.000000e+04     10.000000       714.000000      710.000000   \n",
              "max    7.141778e+06     10.000000       850.000000      845.000000   \n",
              "\n",
              "           int_rate     loan_amnt  num_actv_bc_tl      mort_acc   tot_cur_bal  \\\n",
              "count  80000.000000  80000.000000    80000.000000  80000.000000  8.000000e+04   \n",
              "mean      13.232898  14403.867813        3.454462      1.616750  1.345991e+05   \n",
              "std        4.771705   8703.826298        2.342177      1.993732  1.583864e+05   \n",
              "min        5.310000    750.000000        0.000000      0.000000  0.000000e+00   \n",
              "25%        9.750000   7925.000000        2.000000      0.000000  2.543850e+04   \n",
              "50%       12.740000  12000.000000        3.000000      1.000000  7.103850e+04   \n",
              "75%       15.990000  20000.000000        5.000000      3.000000  2.036260e+05   \n",
              "max       30.990000  40000.000000       32.000000     32.000000  5.172185e+06   \n",
              "\n",
              "           open_acc       pub_rec  pub_rec_bankruptcies     revol_bal  \\\n",
              "count  80000.000000  80000.000000          80000.000000  8.000000e+04   \n",
              "mean      11.605675      0.216675              0.137050  1.628934e+04   \n",
              "std        5.483362      0.579854              0.383137  2.264915e+04   \n",
              "min        1.000000      0.000000              0.000000  0.000000e+00   \n",
              "25%        8.000000      0.000000              0.000000  5.965750e+03   \n",
              "50%       11.000000      0.000000              0.000000  1.111100e+04   \n",
              "75%       14.000000      0.000000              0.000000  1.963500e+04   \n",
              "max       80.000000     24.000000              7.000000  1.023940e+06   \n",
              "\n",
              "         revol_util     total_acc  \n",
              "count  80000.000000  80000.000000  \n",
              "mean      51.864759     25.036875  \n",
              "std       24.533089     12.009194  \n",
              "min        0.000000      2.000000  \n",
              "25%       33.500000     16.000000  \n",
              "50%       52.200000     23.000000  \n",
              "75%       70.800000     32.000000  \n",
              "max      152.600000    162.000000  "
            ],
            "text/html": [
              "\n",
              "  <div id=\"df-f7abbdcc-45c8-4923-a7e5-5cf52486573c\" class=\"colab-df-container\">\n",
              "    <div>\n",
              "<style scoped>\n",
              "    .dataframe tbody tr th:only-of-type {\n",
              "        vertical-align: middle;\n",
              "    }\n",
              "\n",
              "    .dataframe tbody tr th {\n",
              "        vertical-align: top;\n",
              "    }\n",
              "\n",
              "    .dataframe thead th {\n",
              "        text-align: right;\n",
              "    }\n",
              "</style>\n",
              "<table border=\"1\" class=\"dataframe\">\n",
              "  <thead>\n",
              "    <tr style=\"text-align: right;\">\n",
              "      <th></th>\n",
              "      <th>annual_inc</th>\n",
              "      <th>emp_length</th>\n",
              "      <th>fico_range_high</th>\n",
              "      <th>fico_range_low</th>\n",
              "      <th>int_rate</th>\n",
              "      <th>loan_amnt</th>\n",
              "      <th>num_actv_bc_tl</th>\n",
              "      <th>mort_acc</th>\n",
              "      <th>tot_cur_bal</th>\n",
              "      <th>open_acc</th>\n",
              "      <th>pub_rec</th>\n",
              "      <th>pub_rec_bankruptcies</th>\n",
              "      <th>revol_bal</th>\n",
              "      <th>revol_util</th>\n",
              "      <th>total_acc</th>\n",
              "    </tr>\n",
              "  </thead>\n",
              "  <tbody>\n",
              "    <tr>\n",
              "      <th>count</th>\n",
              "      <td>8.000000e+04</td>\n",
              "      <td>80000.000000</td>\n",
              "      <td>80000.000000</td>\n",
              "      <td>80000.000000</td>\n",
              "      <td>80000.000000</td>\n",
              "      <td>80000.000000</td>\n",
              "      <td>80000.000000</td>\n",
              "      <td>80000.000000</td>\n",
              "      <td>8.000000e+04</td>\n",
              "      <td>80000.000000</td>\n",
              "      <td>80000.000000</td>\n",
              "      <td>80000.000000</td>\n",
              "      <td>8.000000e+04</td>\n",
              "      <td>80000.000000</td>\n",
              "      <td>80000.000000</td>\n",
              "    </tr>\n",
              "    <tr>\n",
              "      <th>mean</th>\n",
              "      <td>7.604614e+04</td>\n",
              "      <td>5.623037</td>\n",
              "      <td>699.987975</td>\n",
              "      <td>695.987813</td>\n",
              "      <td>13.232898</td>\n",
              "      <td>14403.867813</td>\n",
              "      <td>3.454462</td>\n",
              "      <td>1.616750</td>\n",
              "      <td>1.345991e+05</td>\n",
              "      <td>11.605675</td>\n",
              "      <td>0.216675</td>\n",
              "      <td>0.137050</td>\n",
              "      <td>1.628934e+04</td>\n",
              "      <td>51.864759</td>\n",
              "      <td>25.036875</td>\n",
              "    </tr>\n",
              "    <tr>\n",
              "      <th>std</th>\n",
              "      <td>6.902006e+04</td>\n",
              "      <td>3.837232</td>\n",
              "      <td>31.734840</td>\n",
              "      <td>31.734075</td>\n",
              "      <td>4.771705</td>\n",
              "      <td>8703.826298</td>\n",
              "      <td>2.342177</td>\n",
              "      <td>1.993732</td>\n",
              "      <td>1.583864e+05</td>\n",
              "      <td>5.483362</td>\n",
              "      <td>0.579854</td>\n",
              "      <td>0.383137</td>\n",
              "      <td>2.264915e+04</td>\n",
              "      <td>24.533089</td>\n",
              "      <td>12.009194</td>\n",
              "    </tr>\n",
              "    <tr>\n",
              "      <th>min</th>\n",
              "      <td>0.000000e+00</td>\n",
              "      <td>0.000000</td>\n",
              "      <td>664.000000</td>\n",
              "      <td>660.000000</td>\n",
              "      <td>5.310000</td>\n",
              "      <td>750.000000</td>\n",
              "      <td>0.000000</td>\n",
              "      <td>0.000000</td>\n",
              "      <td>0.000000e+00</td>\n",
              "      <td>1.000000</td>\n",
              "      <td>0.000000</td>\n",
              "      <td>0.000000</td>\n",
              "      <td>0.000000e+00</td>\n",
              "      <td>0.000000</td>\n",
              "      <td>2.000000</td>\n",
              "    </tr>\n",
              "    <tr>\n",
              "      <th>25%</th>\n",
              "      <td>4.600000e+04</td>\n",
              "      <td>2.000000</td>\n",
              "      <td>674.000000</td>\n",
              "      <td>670.000000</td>\n",
              "      <td>9.750000</td>\n",
              "      <td>7925.000000</td>\n",
              "      <td>2.000000</td>\n",
              "      <td>0.000000</td>\n",
              "      <td>2.543850e+04</td>\n",
              "      <td>8.000000</td>\n",
              "      <td>0.000000</td>\n",
              "      <td>0.000000</td>\n",
              "      <td>5.965750e+03</td>\n",
              "      <td>33.500000</td>\n",
              "      <td>16.000000</td>\n",
              "    </tr>\n",
              "    <tr>\n",
              "      <th>50%</th>\n",
              "      <td>6.500000e+04</td>\n",
              "      <td>6.000000</td>\n",
              "      <td>694.000000</td>\n",
              "      <td>690.000000</td>\n",
              "      <td>12.740000</td>\n",
              "      <td>12000.000000</td>\n",
              "      <td>3.000000</td>\n",
              "      <td>1.000000</td>\n",
              "      <td>7.103850e+04</td>\n",
              "      <td>11.000000</td>\n",
              "      <td>0.000000</td>\n",
              "      <td>0.000000</td>\n",
              "      <td>1.111100e+04</td>\n",
              "      <td>52.200000</td>\n",
              "      <td>23.000000</td>\n",
              "    </tr>\n",
              "    <tr>\n",
              "      <th>75%</th>\n",
              "      <td>9.000000e+04</td>\n",
              "      <td>10.000000</td>\n",
              "      <td>714.000000</td>\n",
              "      <td>710.000000</td>\n",
              "      <td>15.990000</td>\n",
              "      <td>20000.000000</td>\n",
              "      <td>5.000000</td>\n",
              "      <td>3.000000</td>\n",
              "      <td>2.036260e+05</td>\n",
              "      <td>14.000000</td>\n",
              "      <td>0.000000</td>\n",
              "      <td>0.000000</td>\n",
              "      <td>1.963500e+04</td>\n",
              "      <td>70.800000</td>\n",
              "      <td>32.000000</td>\n",
              "    </tr>\n",
              "    <tr>\n",
              "      <th>max</th>\n",
              "      <td>7.141778e+06</td>\n",
              "      <td>10.000000</td>\n",
              "      <td>850.000000</td>\n",
              "      <td>845.000000</td>\n",
              "      <td>30.990000</td>\n",
              "      <td>40000.000000</td>\n",
              "      <td>32.000000</td>\n",
              "      <td>32.000000</td>\n",
              "      <td>5.172185e+06</td>\n",
              "      <td>80.000000</td>\n",
              "      <td>24.000000</td>\n",
              "      <td>7.000000</td>\n",
              "      <td>1.023940e+06</td>\n",
              "      <td>152.600000</td>\n",
              "      <td>162.000000</td>\n",
              "    </tr>\n",
              "  </tbody>\n",
              "</table>\n",
              "</div>\n",
              "    <div class=\"colab-df-buttons\">\n",
              "\n",
              "  <div class=\"colab-df-container\">\n",
              "    <button class=\"colab-df-convert\" onclick=\"convertToInteractive('df-f7abbdcc-45c8-4923-a7e5-5cf52486573c')\"\n",
              "            title=\"Convert this dataframe to an interactive table.\"\n",
              "            style=\"display:none;\">\n",
              "\n",
              "  <svg xmlns=\"http://www.w3.org/2000/svg\" height=\"24px\" viewBox=\"0 -960 960 960\">\n",
              "    <path d=\"M120-120v-720h720v720H120Zm60-500h600v-160H180v160Zm220 220h160v-160H400v160Zm0 220h160v-160H400v160ZM180-400h160v-160H180v160Zm440 0h160v-160H620v160ZM180-180h160v-160H180v160Zm440 0h160v-160H620v160Z\"/>\n",
              "  </svg>\n",
              "    </button>\n",
              "\n",
              "  <style>\n",
              "    .colab-df-container {\n",
              "      display:flex;\n",
              "      gap: 12px;\n",
              "    }\n",
              "\n",
              "    .colab-df-convert {\n",
              "      background-color: #E8F0FE;\n",
              "      border: none;\n",
              "      border-radius: 50%;\n",
              "      cursor: pointer;\n",
              "      display: none;\n",
              "      fill: #1967D2;\n",
              "      height: 32px;\n",
              "      padding: 0 0 0 0;\n",
              "      width: 32px;\n",
              "    }\n",
              "\n",
              "    .colab-df-convert:hover {\n",
              "      background-color: #E2EBFA;\n",
              "      box-shadow: 0px 1px 2px rgba(60, 64, 67, 0.3), 0px 1px 3px 1px rgba(60, 64, 67, 0.15);\n",
              "      fill: #174EA6;\n",
              "    }\n",
              "\n",
              "    .colab-df-buttons div {\n",
              "      margin-bottom: 4px;\n",
              "    }\n",
              "\n",
              "    [theme=dark] .colab-df-convert {\n",
              "      background-color: #3B4455;\n",
              "      fill: #D2E3FC;\n",
              "    }\n",
              "\n",
              "    [theme=dark] .colab-df-convert:hover {\n",
              "      background-color: #434B5C;\n",
              "      box-shadow: 0px 1px 3px 1px rgba(0, 0, 0, 0.15);\n",
              "      filter: drop-shadow(0px 1px 2px rgba(0, 0, 0, 0.3));\n",
              "      fill: #FFFFFF;\n",
              "    }\n",
              "  </style>\n",
              "\n",
              "    <script>\n",
              "      const buttonEl =\n",
              "        document.querySelector('#df-f7abbdcc-45c8-4923-a7e5-5cf52486573c button.colab-df-convert');\n",
              "      buttonEl.style.display =\n",
              "        google.colab.kernel.accessAllowed ? 'block' : 'none';\n",
              "\n",
              "      async function convertToInteractive(key) {\n",
              "        const element = document.querySelector('#df-f7abbdcc-45c8-4923-a7e5-5cf52486573c');\n",
              "        const dataTable =\n",
              "          await google.colab.kernel.invokeFunction('convertToInteractive',\n",
              "                                                    [key], {});\n",
              "        if (!dataTable) return;\n",
              "\n",
              "        const docLinkHtml = 'Like what you see? Visit the ' +\n",
              "          '<a target=\"_blank\" href=https://colab.research.google.com/notebooks/data_table.ipynb>data table notebook</a>'\n",
              "          + ' to learn more about interactive tables.';\n",
              "        element.innerHTML = '';\n",
              "        dataTable['output_type'] = 'display_data';\n",
              "        await google.colab.output.renderOutput(dataTable, element);\n",
              "        const docLink = document.createElement('div');\n",
              "        docLink.innerHTML = docLinkHtml;\n",
              "        element.appendChild(docLink);\n",
              "      }\n",
              "    </script>\n",
              "  </div>\n",
              "\n",
              "\n",
              "<div id=\"df-cc4b15b1-930d-4439-94db-cd3fdfc7e08c\">\n",
              "  <button class=\"colab-df-quickchart\" onclick=\"quickchart('df-cc4b15b1-930d-4439-94db-cd3fdfc7e08c')\"\n",
              "            title=\"Suggest charts\"\n",
              "            style=\"display:none;\">\n",
              "\n",
              "<svg xmlns=\"http://www.w3.org/2000/svg\" height=\"24px\"viewBox=\"0 0 24 24\"\n",
              "     width=\"24px\">\n",
              "    <g>\n",
              "        <path d=\"M19 3H5c-1.1 0-2 .9-2 2v14c0 1.1.9 2 2 2h14c1.1 0 2-.9 2-2V5c0-1.1-.9-2-2-2zM9 17H7v-7h2v7zm4 0h-2V7h2v10zm4 0h-2v-4h2v4z\"/>\n",
              "    </g>\n",
              "</svg>\n",
              "  </button>\n",
              "\n",
              "<style>\n",
              "  .colab-df-quickchart {\n",
              "      --bg-color: #E8F0FE;\n",
              "      --fill-color: #1967D2;\n",
              "      --hover-bg-color: #E2EBFA;\n",
              "      --hover-fill-color: #174EA6;\n",
              "      --disabled-fill-color: #AAA;\n",
              "      --disabled-bg-color: #DDD;\n",
              "  }\n",
              "\n",
              "  [theme=dark] .colab-df-quickchart {\n",
              "      --bg-color: #3B4455;\n",
              "      --fill-color: #D2E3FC;\n",
              "      --hover-bg-color: #434B5C;\n",
              "      --hover-fill-color: #FFFFFF;\n",
              "      --disabled-bg-color: #3B4455;\n",
              "      --disabled-fill-color: #666;\n",
              "  }\n",
              "\n",
              "  .colab-df-quickchart {\n",
              "    background-color: var(--bg-color);\n",
              "    border: none;\n",
              "    border-radius: 50%;\n",
              "    cursor: pointer;\n",
              "    display: none;\n",
              "    fill: var(--fill-color);\n",
              "    height: 32px;\n",
              "    padding: 0;\n",
              "    width: 32px;\n",
              "  }\n",
              "\n",
              "  .colab-df-quickchart:hover {\n",
              "    background-color: var(--hover-bg-color);\n",
              "    box-shadow: 0 1px 2px rgba(60, 64, 67, 0.3), 0 1px 3px 1px rgba(60, 64, 67, 0.15);\n",
              "    fill: var(--button-hover-fill-color);\n",
              "  }\n",
              "\n",
              "  .colab-df-quickchart-complete:disabled,\n",
              "  .colab-df-quickchart-complete:disabled:hover {\n",
              "    background-color: var(--disabled-bg-color);\n",
              "    fill: var(--disabled-fill-color);\n",
              "    box-shadow: none;\n",
              "  }\n",
              "\n",
              "  .colab-df-spinner {\n",
              "    border: 2px solid var(--fill-color);\n",
              "    border-color: transparent;\n",
              "    border-bottom-color: var(--fill-color);\n",
              "    animation:\n",
              "      spin 1s steps(1) infinite;\n",
              "  }\n",
              "\n",
              "  @keyframes spin {\n",
              "    0% {\n",
              "      border-color: transparent;\n",
              "      border-bottom-color: var(--fill-color);\n",
              "      border-left-color: var(--fill-color);\n",
              "    }\n",
              "    20% {\n",
              "      border-color: transparent;\n",
              "      border-left-color: var(--fill-color);\n",
              "      border-top-color: var(--fill-color);\n",
              "    }\n",
              "    30% {\n",
              "      border-color: transparent;\n",
              "      border-left-color: var(--fill-color);\n",
              "      border-top-color: var(--fill-color);\n",
              "      border-right-color: var(--fill-color);\n",
              "    }\n",
              "    40% {\n",
              "      border-color: transparent;\n",
              "      border-right-color: var(--fill-color);\n",
              "      border-top-color: var(--fill-color);\n",
              "    }\n",
              "    60% {\n",
              "      border-color: transparent;\n",
              "      border-right-color: var(--fill-color);\n",
              "    }\n",
              "    80% {\n",
              "      border-color: transparent;\n",
              "      border-right-color: var(--fill-color);\n",
              "      border-bottom-color: var(--fill-color);\n",
              "    }\n",
              "    90% {\n",
              "      border-color: transparent;\n",
              "      border-bottom-color: var(--fill-color);\n",
              "    }\n",
              "  }\n",
              "</style>\n",
              "\n",
              "  <script>\n",
              "    async function quickchart(key) {\n",
              "      const quickchartButtonEl =\n",
              "        document.querySelector('#' + key + ' button');\n",
              "      quickchartButtonEl.disabled = true;  // To prevent multiple clicks.\n",
              "      quickchartButtonEl.classList.add('colab-df-spinner');\n",
              "      try {\n",
              "        const charts = await google.colab.kernel.invokeFunction(\n",
              "            'suggestCharts', [key], {});\n",
              "      } catch (error) {\n",
              "        console.error('Error during call to suggestCharts:', error);\n",
              "      }\n",
              "      quickchartButtonEl.classList.remove('colab-df-spinner');\n",
              "      quickchartButtonEl.classList.add('colab-df-quickchart-complete');\n",
              "    }\n",
              "    (() => {\n",
              "      let quickchartButtonEl =\n",
              "        document.querySelector('#df-cc4b15b1-930d-4439-94db-cd3fdfc7e08c button');\n",
              "      quickchartButtonEl.style.display =\n",
              "        google.colab.kernel.accessAllowed ? 'block' : 'none';\n",
              "    })();\n",
              "  </script>\n",
              "</div>\n",
              "\n",
              "    </div>\n",
              "  </div>\n"
            ],
            "application/vnd.google.colaboratory.intrinsic+json": {
              "type": "dataframe",
              "summary": "{\n  \"name\": \"df_train\",\n  \"rows\": 8,\n  \"fields\": [\n    {\n      \"column\": \"annual_inc\",\n      \"properties\": {\n        \"dtype\": \"number\",\n        \"std\": 2503635.857781604,\n        \"min\": 0.0,\n        \"max\": 7141778.0,\n        \"num_unique_values\": 8,\n        \"samples\": [\n          76046.14313812499,\n          65000.0,\n          80000.0\n        ],\n        \"semantic_type\": \"\",\n        \"description\": \"\"\n      }\n    },\n    {\n      \"column\": \"emp_length\",\n      \"properties\": {\n        \"dtype\": \"number\",\n        \"std\": 28282.379435040704,\n        \"min\": 0.0,\n        \"max\": 80000.0,\n        \"num_unique_values\": 7,\n        \"samples\": [\n          80000.0,\n          5.6230375,\n          6.0\n        ],\n        \"semantic_type\": \"\",\n        \"description\": \"\"\n      }\n    },\n    {\n      \"column\": \"fico_range_high\",\n      \"properties\": {\n        \"dtype\": \"number\",\n        \"std\": 28066.768580505937,\n        \"min\": 31.734840383253104,\n        \"max\": 80000.0,\n        \"num_unique_values\": 8,\n        \"samples\": [\n          699.987975,\n          694.0,\n          80000.0\n        ],\n        \"semantic_type\": \"\",\n        \"description\": \"\"\n      }\n    },\n    {\n      \"column\": \"fico_range_low\",\n      \"properties\": {\n        \"dtype\": \"number\",\n        \"std\": 28068.01819149371,\n        \"min\": 31.734074779464112,\n        \"max\": 80000.0,\n        \"num_unique_values\": 8,\n        \"samples\": [\n          695.9878125,\n          690.0,\n          80000.0\n        ],\n        \"semantic_type\": \"\",\n        \"description\": \"\"\n      }\n    },\n    {\n      \"column\": \"int_rate\",\n      \"properties\": {\n        \"dtype\": \"number\",\n        \"std\": 28279.586103538557,\n        \"min\": 4.771705383746449,\n        \"max\": 80000.0,\n        \"num_unique_values\": 8,\n        \"samples\": [\n          13.232898125000002,\n          12.74,\n          80000.0\n        ],\n        \"semantic_type\": \"\",\n        \"description\": \"\"\n      }\n    },\n    {\n      \"column\": \"loan_amnt\",\n      \"properties\": {\n        \"dtype\": \"number\",\n        \"std\": 25825.198916048812,\n        \"min\": 750.0,\n        \"max\": 80000.0,\n        \"num_unique_values\": 8,\n        \"samples\": [\n          14403.8678125,\n          12000.0,\n          80000.0\n        ],\n        \"semantic_type\": \"\",\n        \"description\": \"\"\n      }\n    },\n    {\n      \"column\": \"num_actv_bc_tl\",\n      \"properties\": {\n        \"dtype\": \"number\",\n        \"std\": 28281.85905451593,\n        \"min\": 0.0,\n        \"max\": 80000.0,\n        \"num_unique_values\": 8,\n        \"samples\": [\n          3.4544625,\n          3.0,\n          80000.0\n        ],\n        \"semantic_type\": \"\",\n        \"description\": \"\"\n      }\n    },\n    {\n      \"column\": \"mort_acc\",\n      \"properties\": {\n        \"dtype\": \"number\",\n        \"std\": 28282.272677966237,\n        \"min\": 0.0,\n        \"max\": 80000.0,\n        \"num_unique_values\": 7,\n        \"samples\": [\n          80000.0,\n          1.61675,\n          3.0\n        ],\n        \"semantic_type\": \"\",\n        \"description\": \"\"\n      }\n    },\n    {\n      \"column\": \"tot_cur_bal\",\n      \"properties\": {\n        \"dtype\": \"number\",\n        \"std\": 1795922.1745245585,\n        \"min\": 0.0,\n        \"max\": 5172185.0,\n        \"num_unique_values\": 8,\n        \"samples\": [\n          134599.072175,\n          71038.5,\n          80000.0\n        ],\n        \"semantic_type\": \"\",\n        \"description\": \"\"\n      }\n    },\n    {\n      \"column\": \"open_acc\",\n      \"properties\": {\n        \"dtype\": \"number\",\n        \"std\": 28277.66159754612,\n        \"min\": 1.0,\n        \"max\": 80000.0,\n        \"num_unique_values\": 8,\n        \"samples\": [\n          11.605675,\n          11.0,\n          80000.0\n        ],\n        \"semantic_type\": \"\",\n        \"description\": \"\"\n      }\n    },\n    {\n      \"column\": \"pub_rec\",\n      \"properties\": {\n        \"dtype\": \"number\",\n        \"std\": 28283.02006741429,\n        \"min\": 0.0,\n        \"max\": 80000.0,\n        \"num_unique_values\": 5,\n        \"samples\": [\n          0.216675,\n          24.0,\n          0.5798544190263111\n        ],\n        \"semantic_type\": \"\",\n        \"description\": \"\"\n      }\n    },\n    {\n      \"column\": \"pub_rec_bankruptcies\",\n      \"properties\": {\n        \"dtype\": \"number\",\n        \"std\": 28283.891524409497,\n        \"min\": 0.0,\n        \"max\": 80000.0,\n        \"num_unique_values\": 5,\n        \"samples\": [\n          0.13705,\n          7.0,\n          0.38313722401595923\n        ],\n        \"semantic_type\": \"\",\n        \"description\": \"\"\n      }\n    },\n    {\n      \"column\": \"revol_bal\",\n      \"properties\": {\n        \"dtype\": \"number\",\n        \"std\": 355014.4637898138,\n        \"min\": 0.0,\n        \"max\": 1023940.0,\n        \"num_unique_values\": 8,\n        \"samples\": [\n          16289.340975,\n          11111.0,\n          80000.0\n        ],\n        \"semantic_type\": \"\",\n        \"description\": \"\"\n      }\n    },\n    {\n      \"column\": \"revol_util\",\n      \"properties\": {\n        \"dtype\": \"number\",\n        \"std\": 28264.83657247114,\n        \"min\": 0.0,\n        \"max\": 80000.0,\n        \"num_unique_values\": 8,\n        \"samples\": [\n          51.86475912499999,\n          52.2,\n          80000.0\n        ],\n        \"semantic_type\": \"\",\n        \"description\": \"\"\n      }\n    },\n    {\n      \"column\": \"total_acc\",\n      \"properties\": {\n        \"dtype\": \"number\",\n        \"std\": 28270.576970085847,\n        \"min\": 2.0,\n        \"max\": 80000.0,\n        \"num_unique_values\": 8,\n        \"samples\": [\n          25.036875,\n          23.0,\n          80000.0\n        ],\n        \"semantic_type\": \"\",\n        \"description\": \"\"\n      }\n    }\n  ]\n}"
            }
          },
          "metadata": {},
          "execution_count": 14
        }
      ],
      "source": [
        "df_train.describe()"
      ]
    },
    {
      "cell_type": "markdown",
      "metadata": {
        "id": "OpGGBk80OGYf"
      },
      "source": [
        "### EDA"
      ]
    },
    {
      "cell_type": "code",
      "execution_count": 15,
      "metadata": {
        "colab": {
          "base_uri": "https://localhost:8080/"
        },
        "id": "rolywMAaOPIT",
        "outputId": "f4ca5152-8b48-40b0-8e11-86d1c3110aff"
      },
      "outputs": [
        {
          "output_type": "execute_result",
          "data": {
            "text/plain": [
              "loan_status\n",
              "Paid         64030\n",
              "Defaulted    15970\n",
              "Name: count, dtype: int64"
            ]
          },
          "metadata": {},
          "execution_count": 15
        }
      ],
      "source": [
        "df_train['loan_status'].value_counts()"
      ]
    },
    {
      "cell_type": "code",
      "execution_count": 16,
      "metadata": {
        "colab": {
          "base_uri": "https://localhost:8080/"
        },
        "id": "ff6VNI7UOge7",
        "outputId": "2bf95eb0-11f6-41a4-d4b9-fc4a0797e1d7"
      },
      "outputs": [
        {
          "output_type": "execute_result",
          "data": {
            "text/plain": [
              "initial_list_status\n",
              "w    46745\n",
              "f    33255\n",
              "Name: count, dtype: int64"
            ]
          },
          "metadata": {},
          "execution_count": 16
        }
      ],
      "source": [
        "df_train['initial_list_status'].value_counts()"
      ]
    },
    {
      "cell_type": "code",
      "execution_count": 17,
      "metadata": {
        "colab": {
          "base_uri": "https://localhost:8080/"
        },
        "id": "dnfyK9WVOf88",
        "outputId": "b51b9772-92f5-4de6-a848-ce48e58ee809"
      },
      "outputs": [
        {
          "output_type": "execute_result",
          "data": {
            "text/plain": [
              "home_ownership\n",
              "MORTGAGE    39628\n",
              "RENT        31688\n",
              "OWN          8654\n",
              "ANY            19\n",
              "OTHER           7\n",
              "NONE            4\n",
              "Name: count, dtype: int64"
            ]
          },
          "metadata": {},
          "execution_count": 17
        }
      ],
      "source": [
        "df_train['home_ownership'].value_counts()"
      ]
    },
    {
      "cell_type": "code",
      "execution_count": 18,
      "metadata": {
        "colab": {
          "base_uri": "https://localhost:8080/"
        },
        "id": "G_EyBH_oOmGU",
        "outputId": "3a6d19c4-60ba-49b4-c800-a82c6b32ef50"
      },
      "outputs": [
        {
          "output_type": "execute_result",
          "data": {
            "text/plain": [
              "application_type\n",
              "Individual    78446\n",
              "Joint App      1554\n",
              "Name: count, dtype: int64"
            ]
          },
          "metadata": {},
          "execution_count": 18
        }
      ],
      "source": [
        "df_train['application_type'].value_counts()"
      ]
    },
    {
      "cell_type": "code",
      "execution_count": 19,
      "metadata": {
        "id": "CI-l5-nId17R"
      },
      "outputs": [],
      "source": [
        "df_train['earliest_cr_line'] = pd.to_datetime(df_train['earliest_cr_line'],format='%b-%y')"
      ]
    },
    {
      "cell_type": "code",
      "execution_count": 20,
      "metadata": {
        "id": "Ef3P7aCNen-u"
      },
      "outputs": [],
      "source": [
        "df_train['term'] = df_train['term'].str.extract('(\\d+)').astype(int)"
      ]
    },
    {
      "cell_type": "code",
      "execution_count": 21,
      "metadata": {
        "colab": {
          "base_uri": "https://localhost:8080/"
        },
        "id": "u7PKUVbfK3ot",
        "outputId": "108c624d-19ea-4ce8-a896-03244c272173"
      },
      "outputs": [
        {
          "output_type": "execute_result",
          "data": {
            "text/plain": [
              "earliest_cr_line\n",
              "September    7991\n",
              "October      7689\n",
              "August       7613\n",
              "November     7006\n",
              "March        6554\n",
              "July         6466\n",
              "December     6405\n",
              "June         6257\n",
              "May          6212\n",
              "April        6140\n",
              "February     5898\n",
              "January      5769\n",
              "Name: count, dtype: int64"
            ]
          },
          "metadata": {},
          "execution_count": 21
        }
      ],
      "source": [
        "df_train['earliest_cr_line'].dt.month_name().value_counts()"
      ]
    },
    {
      "cell_type": "code",
      "execution_count": 22,
      "metadata": {
        "colab": {
          "base_uri": "https://localhost:8080/",
          "height": 487
        },
        "id": "Le_6lmSKPIPL",
        "outputId": "257bc382-0228-4e00-f9be-613d135ad905"
      },
      "outputs": [
        {
          "output_type": "display_data",
          "data": {
            "text/plain": [
              "<Figure size 1200x500 with 1 Axes>"
            ],
            "image/png": "[encoded data removed]"
          },
          "metadata": {}
        }
      ],
      "source": [
        "# distribution of loan_amnt\n",
        "plt.figure(figsize=(12, 5))\n",
        "sns.histplot(df_train['loan_amnt'], bins=30, kde=True)\n",
        "plt.title('Distribution of Loan Amount')\n",
        "plt.show()"
      ]
    },
    {
      "cell_type": "markdown",
      "metadata": {
        "id": "sbi6hvWGYq6V"
      },
      "source": [
        "Based on the histogram, the distribution of loan amount exhibits the following characteristics:\n",
        "\n",
        "- The majority of loans fall within the range of \\$5,000 to \\$20,000.\n",
        "- There is a gradual decrease in the frequency of loans as the loan amount increases."
      ]
    },
    {
      "cell_type": "code",
      "execution_count": 23,
      "metadata": {
        "colab": {
          "base_uri": "https://localhost:8080/",
          "height": 428
        },
        "id": "8i87-crYMFYn",
        "outputId": "59f1b63e-4bfb-4bd0-af55-be1c0f1ae19d"
      },
      "outputs": [
        {
          "output_type": "display_data",
          "data": {
            "text/plain": [
              "<Figure size 1500x500 with 1 Axes>"
            ],
            "image/png": "[encoded data removed]"
          },
          "metadata": {}
        }
      ],
      "source": [
        "# loan status distribution by States\n",
        "plt.figure(figsize=(15, 5))\n",
        "sns.countplot(data=df_train, x='addr_state', hue='loan_status')\n",
        "plt.title('Loan Status Distribution by States')\n",
        "plt.show()"
      ]
    },
    {
      "cell_type": "code",
      "execution_count": 24,
      "metadata": {
        "colab": {
          "base_uri": "https://localhost:8080/"
        },
        "id": "IF2X_p2iKbpJ",
        "outputId": "441eaa00-53e4-4d77-9d07-3a4bc28cd464"
      },
      "outputs": [
        {
          "output_type": "execute_result",
          "data": {
            "text/plain": [
              "addr_state\n",
              "CA    11744\n",
              "TX     6493\n",
              "NY     6461\n",
              "FL     5618\n",
              "IL     3098\n",
              "NJ     2853\n",
              "PA     2676\n",
              "OH     2575\n",
              "GA     2530\n",
              "NC     2291\n",
              "Name: count, dtype: int64"
            ]
          },
          "metadata": {},
          "execution_count": 24
        }
      ],
      "source": [
        "df_train['addr_state'].value_counts().head(10)"
      ]
    },
    {
      "cell_type": "code",
      "execution_count": 25,
      "metadata": {
        "colab": {
          "base_uri": "https://localhost:8080/",
          "height": 358
        },
        "id": "a7plo8rmPILk",
        "outputId": "64e83b74-2050-4683-be83-fc26e7690f21"
      },
      "outputs": [
        {
          "output_type": "display_data",
          "data": {
            "text/plain": [
              "<Figure size 1500x400 with 1 Axes>"
            ],
            "image/png": "[encoded data removed]"
          },
          "metadata": {}
        }
      ],
      "source": [
        "# loan status distribution by grade\n",
        "plt.figure(figsize=(15, 4))\n",
        "sns.countplot(data=df_train, x='grade', hue='loan_status')\n",
        "plt.title('Loan Status Distribution by Grade')\n",
        "plt.show()"
      ]
    },
    {
      "cell_type": "markdown",
      "metadata": {
        "id": "RGi539_AS69R"
      },
      "source": [
        "- from the above plot we can say that highest loan cleared from B grade and highest Defulaters are from Grade C"
      ]
    },
    {
      "cell_type": "code",
      "execution_count": 26,
      "metadata": {
        "colab": {
          "base_uri": "https://localhost:8080/",
          "height": 361
        },
        "id": "FeoWgd72PIIG",
        "outputId": "d1b1b488-1597-420a-9385-5a00584bceba"
      },
      "outputs": [
        {
          "output_type": "display_data",
          "data": {
            "text/plain": [
              "<Figure size 1500x400 with 1 Axes>"
            ],
            "image/png": "[encoded data removed]"
          },
          "metadata": {}
        }
      ],
      "source": [
        "# loan status distribution by subgrade\n",
        "plt.figure(figsize=(15, 4))\n",
        "sns.countplot(data=df_train, x='sub_grade', hue='loan_status')\n",
        "plt.title('Loan Status Distribution by sub_grade')\n",
        "plt.show()"
      ]
    },
    {
      "cell_type": "code",
      "execution_count": 27,
      "metadata": {
        "colab": {
          "base_uri": "https://localhost:8080/",
          "height": 472
        },
        "id": "bz5GYW9FPIEu",
        "outputId": "60cb18e4-f0dc-4cf3-e38e-7cc9dc1d710e"
      },
      "outputs": [
        {
          "output_type": "display_data",
          "data": {
            "text/plain": [
              "<Figure size 640x480 with 1 Axes>"
            ],
            "image/png": "[encoded data removed]"
          },
          "metadata": {}
        }
      ],
      "source": [
        "# loan status distribution by Application type\n",
        "sns.countplot(data=df_train, x='application_type', hue='loan_status')\n",
        "plt.title('Loan Status Distribution by Application Type')\n",
        "plt.show()"
      ]
    },
    {
      "cell_type": "code",
      "execution_count": 28,
      "metadata": {
        "colab": {
          "base_uri": "https://localhost:8080/",
          "height": 487
        },
        "id": "5XliDiolPIAN",
        "outputId": "0e51b4cd-2ace-4acf-9639-96b0d379a3f8"
      },
      "outputs": [
        {
          "output_type": "display_data",
          "data": {
            "text/plain": [
              "<Figure size 1200x500 with 1 Axes>"
            ],
            "image/png": "[encoded data removed]"
          },
          "metadata": {}
        }
      ],
      "source": [
        "# loan status distribution by home ownership\n",
        "plt.figure(figsize=(12, 5))\n",
        "sns.countplot(data=df_train, x='home_ownership', hue='loan_status')\n",
        "plt.title('Loan Status Distribution by Home_ownership')\n",
        "plt.show()"
      ]
    },
    {
      "cell_type": "markdown",
      "metadata": {
        "id": "elh373x_THe_"
      },
      "source": [
        "- from the above chart we can say that, Mortagers has cleared the loan and highest defaulters are from Rent"
      ]
    },
    {
      "cell_type": "code",
      "execution_count": 29,
      "metadata": {
        "colab": {
          "base_uri": "https://localhost:8080/",
          "height": 410
        },
        "id": "WkvJ8unDPH31",
        "outputId": "6b0bdc46-0787-4d31-9132-e994a3a95de9"
      },
      "outputs": [
        {
          "output_type": "display_data",
          "data": {
            "text/plain": [
              "<Figure size 1200x400 with 1 Axes>"
            ],
            "image/png": "[encoded data removed]"
          },
          "metadata": {}
        }
      ],
      "source": [
        "# loan status distribution by cerification\n",
        "plt.figure(figsize=(12, 4))\n",
        "sns.countplot(data=df_train, x='verification_status', hue='loan_status')\n",
        "plt.title('Loan Status Distribution by Verification')\n",
        "plt.show()"
      ]
    },
    {
      "cell_type": "code",
      "execution_count": 30,
      "metadata": {
        "colab": {
          "base_uri": "https://localhost:8080/",
          "height": 472
        },
        "id": "Kp8Lk9ofNmIZ",
        "outputId": "b6460f56-48d1-4abc-d53f-ebcaec58df6b"
      },
      "outputs": [
        {
          "output_type": "display_data",
          "data": {
            "text/plain": [
              "<Figure size 640x480 with 1 Axes>"
            ],
            "image/png": "[encoded data removed]"
          },
          "metadata": {}
        }
      ],
      "source": [
        "# loan status distribution by purpose\n",
        "sns.countplot(data=df_train, y='purpose', hue='loan_status')\n",
        "plt.title('Loan Status Distribution by Purpose')\n",
        "plt.legend(loc='lower right')\n",
        "plt.show()"
      ]
    },
    {
      "cell_type": "code",
      "execution_count": 31,
      "metadata": {
        "colab": {
          "base_uri": "https://localhost:8080/",
          "height": 450
        },
        "id": "wNeKCQN4S9Xl",
        "outputId": "bb81bf83-14bd-4dc3-efcc-9ea0f0854615"
      },
      "outputs": [
        {
          "output_type": "display_data",
          "data": {
            "text/plain": [
              "<Figure size 640x480 with 1 Axes>"
            ],
            "image/png": "[encoded data removed]"
          },
          "metadata": {}
        }
      ],
      "source": [
        "# distribution of FICO scores\n",
        "sns.scatterplot(data=df_train, x='fico_range_high', y='fico_range_low')\n",
        "plt.show()"
      ]
    },
    {
      "cell_type": "markdown",
      "metadata": {
        "id": "x8EbSvSvQuRY"
      },
      "source": [
        "- 'fico_range_low' and 'fico_range_high' have similar stats and are linearly related."
      ]
    },
    {
      "cell_type": "code",
      "execution_count": 32,
      "metadata": {
        "colab": {
          "base_uri": "https://localhost:8080/",
          "height": 406
        },
        "id": "pwm6tnKNRm69",
        "outputId": "e2119f9b-496e-4dba-c7c2-d1f1d2e6a702"
      },
      "outputs": [
        {
          "output_type": "display_data",
          "data": {
            "text/plain": [
              "<Figure size 640x480 with 1 Axes>"
            ],
            "image/png": "[encoded data removed]"
          },
          "metadata": {}
        }
      ],
      "source": [
        "plt.pie(x=df_train['pub_rec'].value_counts().values[:3],\n",
        "        labels=df_train['pub_rec'].value_counts().index[:3],\n",
        "        autopct='%2.2f%%')\n",
        "plt.show()"
      ]
    },
    {
      "cell_type": "markdown",
      "metadata": {
        "id": "3RtJ1W7ORofl"
      },
      "source": [
        "- Most people in this dataset don't have much derogatory public records."
      ]
    },
    {
      "cell_type": "code",
      "execution_count": 33,
      "metadata": {
        "colab": {
          "base_uri": "https://localhost:8080/",
          "height": 487
        },
        "id": "S6iQT516Ty5y",
        "outputId": "5e6cbca0-7df5-40c2-c8f4-e5c74d81c7cf"
      },
      "outputs": [
        {
          "output_type": "display_data",
          "data": {
            "text/plain": [
              "<Figure size 1200x500 with 1 Axes>"
            ],
            "image/png": "[encoded data removed]"
          },
          "metadata": {}
        }
      ],
      "source": [
        "# relationship between annual_inc and loan_amnt\n",
        "plt.figure(figsize=(12, 5))\n",
        "sns.scatterplot(x='annual_inc', y='loan_amnt', data=df_train)\n",
        "plt.title('Relationship between Annual Income and Loan Amount')\n",
        "plt.show()"
      ]
    },
    {
      "cell_type": "markdown",
      "metadata": {
        "id": "846zVRGzUmbf"
      },
      "source": [
        "- As income increases, the density of data points decreases significantly. This suggests that individuals with higher incomes are less likely to take out loans or have smaller loan amounts."
      ]
    },
    {
      "cell_type": "code",
      "execution_count": 34,
      "metadata": {
        "colab": {
          "base_uri": "https://localhost:8080/",
          "height": 463
        },
        "id": "Rcz5KZ9FQ7L0",
        "outputId": "61523a12-1404-488a-e528-dbf4b84beccc"
      },
      "outputs": [
        {
          "output_type": "display_data",
          "data": {
            "text/plain": [
              "<Figure size 1000x500 with 1 Axes>"
            ],
            "image/png": "[encoded data removed]"
          },
          "metadata": {}
        }
      ],
      "source": [
        "plt.figure(figsize=(10,5))\n",
        "plt.hist(df_train['annual_inc'], bins=100)\n",
        "plt.show()"
      ]
    },
    {
      "cell_type": "markdown",
      "metadata": {
        "id": "6AqKsl-UQ_aw"
      },
      "source": [
        "- Most people's annual income is less than roughly $50,000."
      ]
    },
    {
      "cell_type": "markdown",
      "metadata": {
        "id": "mNFJZ81ygFZF"
      },
      "source": [
        "### Encode Categorical Features"
      ]
    },
    {
      "cell_type": "code",
      "execution_count": 35,
      "metadata": {
        "id": "rwDgzzCw8HUU"
      },
      "outputs": [],
      "source": [
        "def data_type(dataset):\n",
        "    num_train = []\n",
        "    cat_train = []\n",
        "    for col in dataset.columns:\n",
        "        if dataset[col].dtype == 'int64' or dataset[col].dtype == 'float64':\n",
        "            num_train.append(col)\n",
        "        else:\n",
        "            cat_train.append(col)\n",
        "    return num_train, cat_train\n",
        "\n",
        "num_train, cat_train = data_type(df_train)\n",
        "\n",
        "def encoding(df, cat_train):\n",
        "    for col in cat_train:\n",
        "        df_train[col] = df_train[col].astype('category')\n",
        "        df_train[col] = df_train[col].cat.codes\n",
        "    return df_train\n",
        "\n",
        "df_train = encoding(df_train, cat_train)"
      ]
    },
    {
      "cell_type": "code",
      "execution_count": 36,
      "metadata": {
        "id": "jN8M9zzg8j5_"
      },
      "outputs": [],
      "source": [
        "def data_type(dataset):\n",
        "    num_test = []\n",
        "    cat_test = []\n",
        "    for col in dataset.columns:\n",
        "        if dataset[col].dtype == 'int64' or dataset[col].dtype == 'float64':\n",
        "            num_test.append(col)\n",
        "        else:\n",
        "            cat_test.append(col)\n",
        "    return num_test, cat_test\n",
        "\n",
        "num_test, cat_test = data_type(df_test)\n",
        "\n",
        "def encoding(df, cat_test):\n",
        "    for col in cat_test:\n",
        "        df_test[col] = df_test[col].astype('category')\n",
        "        df_test[col] = df_test[col].cat.codes\n",
        "    return df_test\n",
        "\n",
        "df_test = encoding(df_test, cat_test)"
      ]
    },
    {
      "cell_type": "code",
      "execution_count": 37,
      "metadata": {
        "colab": {
          "base_uri": "https://localhost:8080/",
          "height": 226
        },
        "id": "3PXHsuSmXR13",
        "outputId": "21aa4d99-e69a-4871-b06d-14367f7b7682"
      },
      "outputs": [
        {
          "output_type": "execute_result",
          "data": {
            "text/plain": [
              "   addr_state  annual_inc  earliest_cr_line  emp_length  emp_title  \\\n",
              "0           5     85000.0               341          10       7927   \n",
              "1           4     40000.0               218          10       7873   \n",
              "2           9     60000.0               462          10      17128   \n",
              "3          14    100742.0               139          10      35121   \n",
              "4          20     80000.0               365          10      26488   \n",
              "\n",
              "   fico_range_high  fico_range_low  grade  home_ownership  application_type  \\\n",
              "0              744             740      4               1                 0   \n",
              "1              724             720      1               5                 0   \n",
              "2              679             675      1               1                 0   \n",
              "3              664             660      1               1                 0   \n",
              "4              669             665      5               5                 0   \n",
              "\n",
              "   initial_list_status  int_rate  loan_amnt  num_actv_bc_tl  mort_acc  \\\n",
              "0                    1     18.99      18075             1.0       1.0   \n",
              "1                    1     10.16       8800             4.0       0.0   \n",
              "2                    1     11.47      18000             4.0       2.0   \n",
              "3                    1      9.16      20000             4.0       1.0   \n",
              "4                    0     23.83      35000            14.0       7.0   \n",
              "\n",
              "   tot_cur_bal  open_acc  pub_rec  pub_rec_bankruptcies  purpose  revol_bal  \\\n",
              "0     319479.0         7        0                   0.0        2       5338   \n",
              "1      19944.0         5        0                   0.0        2      19944   \n",
              "2      23199.0         7        0                   0.0        2      23199   \n",
              "3      72651.0        12        0                   0.0        2      18425   \n",
              "4      64631.0        23        0                   0.0        2      34370   \n",
              "\n",
              "   revol_util  sub_grade  term  title  total_acc  verification_status  \\\n",
              "0        93.6         20    60   1503          8                    1   \n",
              "1        60.3          5    36   1083         12                    2   \n",
              "2        88.5          9    36   1503         16                    1   \n",
              "3        69.0          6    36   1503         19                    1   \n",
              "4        90.0         29    60   1290         59                    2   \n",
              "\n",
              "   loan_status  \n",
              "0            0  \n",
              "1            1  \n",
              "2            1  \n",
              "3            1  \n",
              "4            1  "
            ],
            "text/html": [
              "\n",
              "  <div id=\"df-f79e594c-2525-43fc-ac53-d6c77bc5b6ac\" class=\"colab-df-container\">\n",
              "    <div>\n",
              "<style scoped>\n",
              "    .dataframe tbody tr th:only-of-type {\n",
              "        vertical-align: middle;\n",
              "    }\n",
              "\n",
              "    .dataframe tbody tr th {\n",
              "        vertical-align: top;\n",
              "    }\n",
              "\n",
              "    .dataframe thead th {\n",
              "        text-align: right;\n",
              "    }\n",
              "</style>\n",
              "<table border=\"1\" class=\"dataframe\">\n",
              "  <thead>\n",
              "    <tr style=\"text-align: right;\">\n",
              "      <th></th>\n",
              "      <th>addr_state</th>\n",
              "      <th>annual_inc</th>\n",
              "      <th>earliest_cr_line</th>\n",
              "      <th>emp_length</th>\n",
              "      <th>emp_title</th>\n",
              "      <th>fico_range_high</th>\n",
              "      <th>fico_range_low</th>\n",
              "      <th>grade</th>\n",
              "      <th>home_ownership</th>\n",
              "      <th>application_type</th>\n",
              "      <th>initial_list_status</th>\n",
              "      <th>int_rate</th>\n",
              "      <th>loan_amnt</th>\n",
              "      <th>num_actv_bc_tl</th>\n",
              "      <th>mort_acc</th>\n",
              "      <th>tot_cur_bal</th>\n",
              "      <th>open_acc</th>\n",
              "      <th>pub_rec</th>\n",
              "      <th>pub_rec_bankruptcies</th>\n",
              "      <th>purpose</th>\n",
              "      <th>revol_bal</th>\n",
              "      <th>revol_util</th>\n",
              "      <th>sub_grade</th>\n",
              "      <th>term</th>\n",
              "      <th>title</th>\n",
              "      <th>total_acc</th>\n",
              "      <th>verification_status</th>\n",
              "      <th>loan_status</th>\n",
              "    </tr>\n",
              "  </thead>\n",
              "  <tbody>\n",
              "    <tr>\n",
              "      <th>0</th>\n",
              "      <td>5</td>\n",
              "      <td>85000.0</td>\n",
              "      <td>341</td>\n",
              "      <td>10</td>\n",
              "      <td>7927</td>\n",
              "      <td>744</td>\n",
              "      <td>740</td>\n",
              "      <td>4</td>\n",
              "      <td>1</td>\n",
              "      <td>0</td>\n",
              "      <td>1</td>\n",
              "      <td>18.99</td>\n",
              "      <td>18075</td>\n",
              "      <td>1.0</td>\n",
              "      <td>1.0</td>\n",
              "      <td>319479.0</td>\n",
              "      <td>7</td>\n",
              "      <td>0</td>\n",
              "      <td>0.0</td>\n",
              "      <td>2</td>\n",
              "      <td>5338</td>\n",
              "      <td>93.6</td>\n",
              "      <td>20</td>\n",
              "      <td>60</td>\n",
              "      <td>1503</td>\n",
              "      <td>8</td>\n",
              "      <td>1</td>\n",
              "      <td>0</td>\n",
              "    </tr>\n",
              "    <tr>\n",
              "      <th>1</th>\n",
              "      <td>4</td>\n",
              "      <td>40000.0</td>\n",
              "      <td>218</td>\n",
              "      <td>10</td>\n",
              "      <td>7873</td>\n",
              "      <td>724</td>\n",
              "      <td>720</td>\n",
              "      <td>1</td>\n",
              "      <td>5</td>\n",
              "      <td>0</td>\n",
              "      <td>1</td>\n",
              "      <td>10.16</td>\n",
              "      <td>8800</td>\n",
              "      <td>4.0</td>\n",
              "      <td>0.0</td>\n",
              "      <td>19944.0</td>\n",
              "      <td>5</td>\n",
              "      <td>0</td>\n",
              "      <td>0.0</td>\n",
              "      <td>2</td>\n",
              "      <td>19944</td>\n",
              "      <td>60.3</td>\n",
              "      <td>5</td>\n",
              "      <td>36</td>\n",
              "      <td>1083</td>\n",
              "      <td>12</td>\n",
              "      <td>2</td>\n",
              "      <td>1</td>\n",
              "    </tr>\n",
              "    <tr>\n",
              "      <th>2</th>\n",
              "      <td>9</td>\n",
              "      <td>60000.0</td>\n",
              "      <td>462</td>\n",
              "      <td>10</td>\n",
              "      <td>17128</td>\n",
              "      <td>679</td>\n",
              "      <td>675</td>\n",
              "      <td>1</td>\n",
              "      <td>1</td>\n",
              "      <td>0</td>\n",
              "      <td>1</td>\n",
              "      <td>11.47</td>\n",
              "      <td>18000</td>\n",
              "      <td>4.0</td>\n",
              "      <td>2.0</td>\n",
              "      <td>23199.0</td>\n",
              "      <td>7</td>\n",
              "      <td>0</td>\n",
              "      <td>0.0</td>\n",
              "      <td>2</td>\n",
              "      <td>23199</td>\n",
              "      <td>88.5</td>\n",
              "      <td>9</td>\n",
              "      <td>36</td>\n",
              "      <td>1503</td>\n",
              "      <td>16</td>\n",
              "      <td>1</td>\n",
              "      <td>1</td>\n",
              "    </tr>\n",
              "    <tr>\n",
              "      <th>3</th>\n",
              "      <td>14</td>\n",
              "      <td>100742.0</td>\n",
              "      <td>139</td>\n",
              "      <td>10</td>\n",
              "      <td>35121</td>\n",
              "      <td>664</td>\n",
              "      <td>660</td>\n",
              "      <td>1</td>\n",
              "      <td>1</td>\n",
              "      <td>0</td>\n",
              "      <td>1</td>\n",
              "      <td>9.16</td>\n",
              "      <td>20000</td>\n",
              "      <td>4.0</td>\n",
              "      <td>1.0</td>\n",
              "      <td>72651.0</td>\n",
              "      <td>12</td>\n",
              "      <td>0</td>\n",
              "      <td>0.0</td>\n",
              "      <td>2</td>\n",
              "      <td>18425</td>\n",
              "      <td>69.0</td>\n",
              "      <td>6</td>\n",
              "      <td>36</td>\n",
              "      <td>1503</td>\n",
              "      <td>19</td>\n",
              "      <td>1</td>\n",
              "      <td>1</td>\n",
              "    </tr>\n",
              "    <tr>\n",
              "      <th>4</th>\n",
              "      <td>20</td>\n",
              "      <td>80000.0</td>\n",
              "      <td>365</td>\n",
              "      <td>10</td>\n",
              "      <td>26488</td>\n",
              "      <td>669</td>\n",
              "      <td>665</td>\n",
              "      <td>5</td>\n",
              "      <td>5</td>\n",
              "      <td>0</td>\n",
              "      <td>0</td>\n",
              "      <td>23.83</td>\n",
              "      <td>35000</td>\n",
              "      <td>14.0</td>\n",
              "      <td>7.0</td>\n",
              "      <td>64631.0</td>\n",
              "      <td>23</td>\n",
              "      <td>0</td>\n",
              "      <td>0.0</td>\n",
              "      <td>2</td>\n",
              "      <td>34370</td>\n",
              "      <td>90.0</td>\n",
              "      <td>29</td>\n",
              "      <td>60</td>\n",
              "      <td>1290</td>\n",
              "      <td>59</td>\n",
              "      <td>2</td>\n",
              "      <td>1</td>\n",
              "    </tr>\n",
              "  </tbody>\n",
              "</table>\n",
              "</div>\n",
              "    <div class=\"colab-df-buttons\">\n",
              "\n",
              "  <div class=\"colab-df-container\">\n",
              "    <button class=\"colab-df-convert\" onclick=\"convertToInteractive('df-f79e594c-2525-43fc-ac53-d6c77bc5b6ac')\"\n",
              "            title=\"Convert this dataframe to an interactive table.\"\n",
              "            style=\"display:none;\">\n",
              "\n",
              "  <svg xmlns=\"http://www.w3.org/2000/svg\" height=\"24px\" viewBox=\"0 -960 960 960\">\n",
              "    <path d=\"M120-120v-720h720v720H120Zm60-500h600v-160H180v160Zm220 220h160v-160H400v160Zm0 220h160v-160H400v160ZM180-400h160v-160H180v160Zm440 0h160v-160H620v160ZM180-180h160v-160H180v160Zm440 0h160v-160H620v160Z\"/>\n",
              "  </svg>\n",
              "    </button>\n",
              "\n",
              "  <style>\n",
              "    .colab-df-container {\n",
              "      display:flex;\n",
              "      gap: 12px;\n",
              "    }\n",
              "\n",
              "    .colab-df-convert {\n",
              "      background-color: #E8F0FE;\n",
              "      border: none;\n",
              "      border-radius: 50%;\n",
              "      cursor: pointer;\n",
              "      display: none;\n",
              "      fill: #1967D2;\n",
              "      height: 32px;\n",
              "      padding: 0 0 0 0;\n",
              "      width: 32px;\n",
              "    }\n",
              "\n",
              "    .colab-df-convert:hover {\n",
              "      background-color: #E2EBFA;\n",
              "      box-shadow: 0px 1px 2px rgba(60, 64, 67, 0.3), 0px 1px 3px 1px rgba(60, 64, 67, 0.15);\n",
              "      fill: #174EA6;\n",
              "    }\n",
              "\n",
              "    .colab-df-buttons div {\n",
              "      margin-bottom: 4px;\n",
              "    }\n",
              "\n",
              "    [theme=dark] .colab-df-convert {\n",
              "      background-color: #3B4455;\n",
              "      fill: #D2E3FC;\n",
              "    }\n",
              "\n",
              "    [theme=dark] .colab-df-convert:hover {\n",
              "      background-color: #434B5C;\n",
              "      box-shadow: 0px 1px 3px 1px rgba(0, 0, 0, 0.15);\n",
              "      filter: drop-shadow(0px 1px 2px rgba(0, 0, 0, 0.3));\n",
              "      fill: #FFFFFF;\n",
              "    }\n",
              "  </style>\n",
              "\n",
              "    <script>\n",
              "      const buttonEl =\n",
              "        document.querySelector('#df-f79e594c-2525-43fc-ac53-d6c77bc5b6ac button.colab-df-convert');\n",
              "      buttonEl.style.display =\n",
              "        google.colab.kernel.accessAllowed ? 'block' : 'none';\n",
              "\n",
              "      async function convertToInteractive(key) {\n",
              "        const element = document.querySelector('#df-f79e594c-2525-43fc-ac53-d6c77bc5b6ac');\n",
              "        const dataTable =\n",
              "          await google.colab.kernel.invokeFunction('convertToInteractive',\n",
              "                                                    [key], {});\n",
              "        if (!dataTable) return;\n",
              "\n",
              "        const docLinkHtml = 'Like what you see? Visit the ' +\n",
              "          '<a target=\"_blank\" href=https://colab.research.google.com/notebooks/data_table.ipynb>data table notebook</a>'\n",
              "          + ' to learn more about interactive tables.';\n",
              "        element.innerHTML = '';\n",
              "        dataTable['output_type'] = 'display_data';\n",
              "        await google.colab.output.renderOutput(dataTable, element);\n",
              "        const docLink = document.createElement('div');\n",
              "        docLink.innerHTML = docLinkHtml;\n",
              "        element.appendChild(docLink);\n",
              "      }\n",
              "    </script>\n",
              "  </div>\n",
              "\n",
              "\n",
              "<div id=\"df-73a7a3a7-eb6e-494a-a08b-eb08412cdef4\">\n",
              "  <button class=\"colab-df-quickchart\" onclick=\"quickchart('df-73a7a3a7-eb6e-494a-a08b-eb08412cdef4')\"\n",
              "            title=\"Suggest charts\"\n",
              "            style=\"display:none;\">\n",
              "\n",
              "<svg xmlns=\"http://www.w3.org/2000/svg\" height=\"24px\"viewBox=\"0 0 24 24\"\n",
              "     width=\"24px\">\n",
              "    <g>\n",
              "        <path d=\"M19 3H5c-1.1 0-2 .9-2 2v14c0 1.1.9 2 2 2h14c1.1 0 2-.9 2-2V5c0-1.1-.9-2-2-2zM9 17H7v-7h2v7zm4 0h-2V7h2v10zm4 0h-2v-4h2v4z\"/>\n",
              "    </g>\n",
              "</svg>\n",
              "  </button>\n",
              "\n",
              "<style>\n",
              "  .colab-df-quickchart {\n",
              "      --bg-color: #E8F0FE;\n",
              "      --fill-color: #1967D2;\n",
              "      --hover-bg-color: #E2EBFA;\n",
              "      --hover-fill-color: #174EA6;\n",
              "      --disabled-fill-color: #AAA;\n",
              "      --disabled-bg-color: #DDD;\n",
              "  }\n",
              "\n",
              "  [theme=dark] .colab-df-quickchart {\n",
              "      --bg-color: #3B4455;\n",
              "      --fill-color: #D2E3FC;\n",
              "      --hover-bg-color: #434B5C;\n",
              "      --hover-fill-color: #FFFFFF;\n",
              "      --disabled-bg-color: #3B4455;\n",
              "      --disabled-fill-color: #666;\n",
              "  }\n",
              "\n",
              "  .colab-df-quickchart {\n",
              "    background-color: var(--bg-color);\n",
              "    border: none;\n",
              "    border-radius: 50%;\n",
              "    cursor: pointer;\n",
              "    display: none;\n",
              "    fill: var(--fill-color);\n",
              "    height: 32px;\n",
              "    padding: 0;\n",
              "    width: 32px;\n",
              "  }\n",
              "\n",
              "  .colab-df-quickchart:hover {\n",
              "    background-color: var(--hover-bg-color);\n",
              "    box-shadow: 0 1px 2px rgba(60, 64, 67, 0.3), 0 1px 3px 1px rgba(60, 64, 67, 0.15);\n",
              "    fill: var(--button-hover-fill-color);\n",
              "  }\n",
              "\n",
              "  .colab-df-quickchart-complete:disabled,\n",
              "  .colab-df-quickchart-complete:disabled:hover {\n",
              "    background-color: var(--disabled-bg-color);\n",
              "    fill: var(--disabled-fill-color);\n",
              "    box-shadow: none;\n",
              "  }\n",
              "\n",
              "  .colab-df-spinner {\n",
              "    border: 2px solid var(--fill-color);\n",
              "    border-color: transparent;\n",
              "    border-bottom-color: var(--fill-color);\n",
              "    animation:\n",
              "      spin 1s steps(1) infinite;\n",
              "  }\n",
              "\n",
              "  @keyframes spin {\n",
              "    0% {\n",
              "      border-color: transparent;\n",
              "      border-bottom-color: var(--fill-color);\n",
              "      border-left-color: var(--fill-color);\n",
              "    }\n",
              "    20% {\n",
              "      border-color: transparent;\n",
              "      border-left-color: var(--fill-color);\n",
              "      border-top-color: var(--fill-color);\n",
              "    }\n",
              "    30% {\n",
              "      border-color: transparent;\n",
              "      border-left-color: var(--fill-color);\n",
              "      border-top-color: var(--fill-color);\n",
              "      border-right-color: var(--fill-color);\n",
              "    }\n",
              "    40% {\n",
              "      border-color: transparent;\n",
              "      border-right-color: var(--fill-color);\n",
              "      border-top-color: var(--fill-color);\n",
              "    }\n",
              "    60% {\n",
              "      border-color: transparent;\n",
              "      border-right-color: var(--fill-color);\n",
              "    }\n",
              "    80% {\n",
              "      border-color: transparent;\n",
              "      border-right-color: var(--fill-color);\n",
              "      border-bottom-color: var(--fill-color);\n",
              "    }\n",
              "    90% {\n",
              "      border-color: transparent;\n",
              "      border-bottom-color: var(--fill-color);\n",
              "    }\n",
              "  }\n",
              "</style>\n",
              "\n",
              "  <script>\n",
              "    async function quickchart(key) {\n",
              "      const quickchartButtonEl =\n",
              "        document.querySelector('#' + key + ' button');\n",
              "      quickchartButtonEl.disabled = true;  // To prevent multiple clicks.\n",
              "      quickchartButtonEl.classList.add('colab-df-spinner');\n",
              "      try {\n",
              "        const charts = await google.colab.kernel.invokeFunction(\n",
              "            'suggestCharts', [key], {});\n",
              "      } catch (error) {\n",
              "        console.error('Error during call to suggestCharts:', error);\n",
              "      }\n",
              "      quickchartButtonEl.classList.remove('colab-df-spinner');\n",
              "      quickchartButtonEl.classList.add('colab-df-quickchart-complete');\n",
              "    }\n",
              "    (() => {\n",
              "      let quickchartButtonEl =\n",
              "        document.querySelector('#df-73a7a3a7-eb6e-494a-a08b-eb08412cdef4 button');\n",
              "      quickchartButtonEl.style.display =\n",
              "        google.colab.kernel.accessAllowed ? 'block' : 'none';\n",
              "    })();\n",
              "  </script>\n",
              "</div>\n",
              "\n",
              "    </div>\n",
              "  </div>\n"
            ],
            "application/vnd.google.colaboratory.intrinsic+json": {
              "type": "dataframe",
              "variable_name": "df_train"
            }
          },
          "metadata": {},
          "execution_count": 37
        }
      ],
      "source": [
        "df_train.head()"
      ]
    },
    {
      "cell_type": "markdown",
      "metadata": {
        "id": "IvvG33GO1I2W"
      },
      "source": [
        "### Feature Selection"
      ]
    },
    {
      "cell_type": "markdown",
      "source": [
        "Let's remove the irrelevant features for the analytical tasks."
      ],
      "metadata": {
        "id": "yMBkY5g2ymq6"
      }
    },
    {
      "cell_type": "code",
      "execution_count": 38,
      "metadata": {
        "id": "mnwJit0d1MyD"
      },
      "outputs": [],
      "source": [
        "df_train.drop(columns=['earliest_cr_line', 'addr_state', 'emp_title','initial_list_status','purpose','title'], inplace=True)\n",
        "df_test.drop(columns=['earliest_cr_line', 'addr_state', 'emp_title','initial_list_status','purpose','title'], inplace=True)"
      ]
    },
    {
      "cell_type": "code",
      "source": [
        "df_train.drop_duplicates(inplace=True)\n",
        "df_test.drop_duplicates(inplace=True)"
      ],
      "metadata": {
        "id": "17braTgd5aDO"
      },
      "execution_count": 39,
      "outputs": []
    },
    {
      "cell_type": "code",
      "execution_count": 40,
      "metadata": {
        "id": "eRPd1TPO6SjI"
      },
      "outputs": [],
      "source": [
        "x=df_train.drop(columns='loan_status')\n",
        "y=df_train['loan_status']"
      ]
    },
    {
      "cell_type": "markdown",
      "metadata": {
        "id": "AdKbG1a_4_zM"
      },
      "source": [
        "### Handling imbalanced data"
      ]
    },
    {
      "cell_type": "code",
      "source": [
        "df_train['loan_status'].value_counts(normalize=True)*100"
      ],
      "metadata": {
        "colab": {
          "base_uri": "https://localhost:8080/"
        },
        "id": "_xa53-tv4pMl",
        "outputId": "fd91cc8c-b4f7-438f-be8a-aed0bde1b22d"
      },
      "execution_count": 41,
      "outputs": [
        {
          "output_type": "execute_result",
          "data": {
            "text/plain": [
              "loan_status\n",
              "1    80.0375\n",
              "0    19.9625\n",
              "Name: proportion, dtype: float64"
            ]
          },
          "metadata": {},
          "execution_count": 41
        }
      ]
    },
    {
      "cell_type": "markdown",
      "source": [
        "- we can see that the given dataset is highly imbalanced. To address this, we will use SMOTE."
      ],
      "metadata": {
        "id": "B8A4trTu3WvW"
      }
    },
    {
      "cell_type": "code",
      "source": [
        "from imblearn.over_sampling import SMOTE\n",
        "sm = SMOTE(sampling_strategy='auto', random_state=42)\n",
        "x_train_sm, y_train_sm = sm.fit_resample(x, y)"
      ],
      "metadata": {
        "id": "39YI5R3X5ndf"
      },
      "execution_count": 42,
      "outputs": []
    },
    {
      "cell_type": "code",
      "source": [
        "df_train_sm = pd.concat([x_train_sm, y_train_sm], axis=1)"
      ],
      "metadata": {
        "id": "oG541X-S6qiQ"
      },
      "execution_count": 43,
      "outputs": []
    },
    {
      "cell_type": "code",
      "source": [
        "df_train_sm['loan_status'].value_counts(normalize=True)*100"
      ],
      "metadata": {
        "colab": {
          "base_uri": "https://localhost:8080/"
        },
        "id": "ufXhjjJJ7HBW",
        "outputId": "a6e30686-1261-4796-aca1-b340e15726ff"
      },
      "execution_count": 44,
      "outputs": [
        {
          "output_type": "execute_result",
          "data": {
            "text/plain": [
              "loan_status\n",
              "0    50.0\n",
              "1    50.0\n",
              "Name: proportion, dtype: float64"
            ]
          },
          "metadata": {},
          "execution_count": 44
        }
      ]
    },
    {
      "cell_type": "markdown",
      "metadata": {
        "id": "Kk4whQHMCCo2"
      },
      "source": [
        "### Split Data"
      ]
    },
    {
      "cell_type": "code",
      "execution_count": 45,
      "metadata": {
        "id": "rbOZZtkH7HKo"
      },
      "outputs": [],
      "source": [
        "x_train,x_test,y_train,y_test = train_test_split(x_train_sm, y_train_sm, test_size=0.3, random_state=42)"
      ]
    },
    {
      "cell_type": "code",
      "execution_count": 46,
      "metadata": {
        "colab": {
          "base_uri": "https://localhost:8080/"
        },
        "id": "lMdU0QAwhj_t",
        "outputId": "2fe1b9b8-295b-43dd-aeda-63430daf8cb0"
      },
      "outputs": [
        {
          "output_type": "stream",
          "name": "stdout",
          "text": [
            "(89642, 21)\n",
            "(38418, 21)\n",
            "(89642,)\n",
            "(38418,)\n"
          ]
        }
      ],
      "source": [
        "print(x_train.shape)\n",
        "print(x_test.shape)\n",
        "print(y_train.shape)\n",
        "print(y_test.shape)"
      ]
    },
    {
      "cell_type": "markdown",
      "metadata": {
        "id": "CM5Iz6ZV9-r8"
      },
      "source": [
        "### Train Model"
      ]
    },
    {
      "cell_type": "markdown",
      "metadata": {
        "id": "r7ZpRjEeEh8K"
      },
      "source": [
        "> **Logistic Regression**"
      ]
    },
    {
      "cell_type": "code",
      "execution_count": 47,
      "metadata": {
        "id": "h3GZutNnCvIr"
      },
      "outputs": [],
      "source": [
        "from sklearn.linear_model import LogisticRegression\n",
        "lr_model = LogisticRegression(random_state=42)\n",
        "lr_model.fit(x_train, y_train)\n",
        "y_pred_lr = lr_model.predict(x_test)"
      ]
    },
    {
      "cell_type": "code",
      "execution_count": 48,
      "metadata": {
        "colab": {
          "base_uri": "https://localhost:8080/"
        },
        "id": "pYHEiB2NCoNM",
        "outputId": "e5d124db-ba04-47b0-95b7-5aec608e61a3"
      },
      "outputs": [
        {
          "output_type": "stream",
          "name": "stdout",
          "text": [
            "Logistic Regression Accuracy: 64.43%\n"
          ]
        }
      ],
      "source": [
        "accuracy_lr = round(accuracy_score(y_pred_lr, y_test) * 100, 2)\n",
        "print(f'Logistic Regression Accuracy: {accuracy_lr}%')"
      ]
    },
    {
      "cell_type": "code",
      "execution_count": 49,
      "metadata": {
        "colab": {
          "base_uri": "https://localhost:8080/"
        },
        "id": "tZvVx14VD_WO",
        "outputId": "db34827c-8d96-45c1-b1c9-1a7c6a7acbea"
      },
      "outputs": [
        {
          "output_type": "stream",
          "name": "stdout",
          "text": [
            "Logistic Regression F1 Score: 66.43%\n"
          ]
        }
      ],
      "source": [
        "f1_lr = round(f1_score(y_test, y_pred_lr)*100,2)\n",
        "print(f'Logistic Regression F1 Score: {f1_lr}%')"
      ]
    },
    {
      "cell_type": "code",
      "execution_count": 50,
      "metadata": {
        "colab": {
          "base_uri": "https://localhost:8080/",
          "height": 472
        },
        "id": "EUYH1J-HCoJL",
        "outputId": "915cf785-52f4-48ec-91dd-c63d18ca7f2a"
      },
      "outputs": [
        {
          "output_type": "display_data",
          "data": {
            "text/plain": [
              "<Figure size 640x480 with 2 Axes>"
            ],
            "image/png": "[encoded data removed]"
          },
          "metadata": {}
        }
      ],
      "source": [
        "cm = confusion_matrix(y_test, y_pred_lr)\n",
        "\n",
        "labels = ['Defaulted', 'Paid']\n",
        "sns.heatmap(cm, annot=True, fmt=\"d\", xticklabels=labels, yticklabels=labels)\n",
        "plt.xlabel(\"Predicted Label\")\n",
        "plt.ylabel(\"True Label\")\n",
        "plt.title(\"Logistic Regression Confusion Matrix\")\n",
        "plt.show()"
      ]
    },
    {
      "cell_type": "markdown",
      "metadata": {
        "id": "caU_q97jEn0k"
      },
      "source": [
        "> **Decision Tree**"
      ]
    },
    {
      "cell_type": "code",
      "execution_count": 51,
      "metadata": {
        "id": "cLbNMLVF_L1v"
      },
      "outputs": [],
      "source": [
        "from sklearn.tree import DecisionTreeClassifier\n",
        "dt = DecisionTreeClassifier(criterion='entropy', random_state=42)\n",
        "dt.fit(x_train, y_train)\n",
        "y_pred_dt = dt.predict(x_test)"
      ]
    },
    {
      "cell_type": "code",
      "execution_count": 52,
      "metadata": {
        "colab": {
          "base_uri": "https://localhost:8080/"
        },
        "id": "Pk8B3EYuBWr2",
        "outputId": "585cb949-a99e-4e67-fc30-3dc37e2526e3"
      },
      "outputs": [
        {
          "output_type": "stream",
          "name": "stdout",
          "text": [
            "Decision Tree Accuracy: 77.83%\n"
          ]
        }
      ],
      "source": [
        "accuracy_dt = round(accuracy_score(y_pred_dt, y_test) * 100, 2)\n",
        "print(f'Decision Tree Accuracy: {accuracy_dt}%')"
      ]
    },
    {
      "cell_type": "code",
      "execution_count": 53,
      "metadata": {
        "colab": {
          "base_uri": "https://localhost:8080/"
        },
        "id": "JCkbfLclERam",
        "outputId": "a019db4c-a64e-44af-f53c-d9c2f2cd66c8"
      },
      "outputs": [
        {
          "output_type": "stream",
          "name": "stdout",
          "text": [
            "Decision Tree F1 Score: 77.63%\n"
          ]
        }
      ],
      "source": [
        "f1_dt = round(f1_score(y_test, y_pred_dt)*100,2)\n",
        "print(f'Decision Tree F1 Score: {f1_dt}%')"
      ]
    },
    {
      "cell_type": "code",
      "execution_count": 54,
      "metadata": {
        "colab": {
          "base_uri": "https://localhost:8080/",
          "height": 472
        },
        "id": "nC133jmTBrop",
        "outputId": "43be036c-dc4a-411e-8a3f-0bee47fe7170"
      },
      "outputs": [
        {
          "output_type": "display_data",
          "data": {
            "text/plain": [
              "<Figure size 640x480 with 2 Axes>"
            ],
            "image/png": "[encoded data removed]"
          },
          "metadata": {}
        }
      ],
      "source": [
        "cm = confusion_matrix(y_test, y_pred_dt)\n",
        "\n",
        "labels = ['Defaulted', 'Paid']\n",
        "sns.heatmap(cm, annot=True, fmt='d', xticklabels=labels, yticklabels=labels)\n",
        "plt.xlabel('Predicted Label')\n",
        "plt.ylabel('True Label')\n",
        "plt.title('Decision Tree Confusion Matrix')\n",
        "plt.show()"
      ]
    },
    {
      "cell_type": "markdown",
      "metadata": {
        "id": "gzd6yuhUGKtv"
      },
      "source": [
        "> **XGBoost**"
      ]
    },
    {
      "cell_type": "code",
      "execution_count": 55,
      "metadata": {
        "id": "7y5J3kryEw_l"
      },
      "outputs": [],
      "source": [
        "from xgboost import XGBClassifier\n",
        "xgb_model = XGBClassifier(n_estimators=100, random_state=42)\n",
        "xgb_model.fit(x_train, y_train)\n",
        "y_pred_xgb = xgb_model.predict(x_test)"
      ]
    },
    {
      "cell_type": "code",
      "execution_count": 56,
      "metadata": {
        "colab": {
          "base_uri": "https://localhost:8080/"
        },
        "id": "x5ZIvDvAEw01",
        "outputId": "a063f9ce-87f8-4c74-d754-5e2135c971a6"
      },
      "outputs": [
        {
          "output_type": "stream",
          "name": "stdout",
          "text": [
            "XGBoost Accuracy: 86.59%\n"
          ]
        }
      ],
      "source": [
        "accuracy_xgb = round(accuracy_score(y_pred_xgb, y_test) * 100, 2)\n",
        "print(f'XGBoost Accuracy: {accuracy_xgb}%')"
      ]
    },
    {
      "cell_type": "code",
      "execution_count": 57,
      "metadata": {
        "colab": {
          "base_uri": "https://localhost:8080/"
        },
        "id": "9O4HSb-mFw8h",
        "outputId": "f1f7d5b3-5ad1-414d-a053-a3da3c3a2ee3"
      },
      "outputs": [
        {
          "output_type": "stream",
          "name": "stdout",
          "text": [
            "XGBoost F1 Score: 87.84%\n"
          ]
        }
      ],
      "source": [
        "f1_xgb = round(f1_score(y_test, y_pred_xgb)*100,2)\n",
        "print(f'XGBoost F1 Score: {f1_xgb}%')"
      ]
    },
    {
      "cell_type": "code",
      "execution_count": 58,
      "metadata": {
        "colab": {
          "base_uri": "https://localhost:8080/",
          "height": 472
        },
        "id": "zlBls9NNEwtW",
        "outputId": "3d577bff-2a32-471a-ef22-ca5ee869beca"
      },
      "outputs": [
        {
          "output_type": "display_data",
          "data": {
            "text/plain": [
              "<Figure size 640x480 with 2 Axes>"
            ],
            "image/png": "[encoded data removed]"
          },
          "metadata": {}
        }
      ],
      "source": [
        "cm = confusion_matrix(y_test, y_pred_xgb)\n",
        "labels = ['Defaulted', 'Paid']\n",
        "sns.heatmap(cm, annot=True, fmt='d', xticklabels=labels, yticklabels=labels)\n",
        "plt.xlabel('Predicted Label')\n",
        "plt.ylabel('True Label')\n",
        "plt.title('XGBoost Confusion Matrix')\n",
        "plt.show()"
      ]
    },
    {
      "cell_type": "markdown",
      "source": [
        "> **AdaBoost**"
      ],
      "metadata": {
        "id": "wO4M_EdlALUH"
      }
    },
    {
      "cell_type": "code",
      "source": [
        "from sklearn.ensemble import AdaBoostClassifier\n",
        "ada_model = AdaBoostClassifier(n_estimators=100, random_state=42)\n",
        "ada_model.fit(x_train, y_train)\n",
        "y_pred_ada = ada_model.predict(x_test)"
      ],
      "metadata": {
        "id": "wGe4N-V7ui3y"
      },
      "execution_count": 59,
      "outputs": []
    },
    {
      "cell_type": "code",
      "source": [
        "accuracy_ada = round(accuracy_score(y_pred_ada, y_test) * 100, 2)\n",
        "print(f'AdaBoost Accuracy: {accuracy_ada}%')"
      ],
      "metadata": {
        "colab": {
          "base_uri": "https://localhost:8080/"
        },
        "id": "DWZofLvHu59o",
        "outputId": "e1aef930-4153-4fb2-edd4-8c66eb369cde"
      },
      "execution_count": 60,
      "outputs": [
        {
          "output_type": "stream",
          "name": "stdout",
          "text": [
            "AdaBoost Accuracy: 82.21%\n"
          ]
        }
      ]
    },
    {
      "cell_type": "code",
      "source": [
        "f1_ada = round(f1_score(y_test, y_pred_ada)*100,2)\n",
        "print(f'AdaBoost F1 Score: {f1_ada}%')"
      ],
      "metadata": {
        "colab": {
          "base_uri": "https://localhost:8080/"
        },
        "id": "mB2RmG6Pu54x",
        "outputId": "0d2ea1d3-ad5c-4eba-8169-f9301bc985ed"
      },
      "execution_count": 61,
      "outputs": [
        {
          "output_type": "stream",
          "name": "stdout",
          "text": [
            "AdaBoost F1 Score: 83.22%\n"
          ]
        }
      ]
    },
    {
      "cell_type": "code",
      "source": [
        "cm = confusion_matrix(y_test, y_pred_ada)\n",
        "labels = ['Defaulted', 'Paid']\n",
        "sns.heatmap(cm, annot=True, fmt='d', xticklabels=labels, yticklabels=labels)\n",
        "plt.xlabel('Predicted Label')\n",
        "plt.ylabel('True Label')\n",
        "plt.title('AdaBoost Confusion Matrix')\n",
        "plt.show()"
      ],
      "metadata": {
        "colab": {
          "base_uri": "https://localhost:8080/",
          "height": 472
        },
        "id": "4dkQeJieu5zF",
        "outputId": "f314c4fc-8bc7-408a-86c1-3f8cf6866465"
      },
      "execution_count": 62,
      "outputs": [
        {
          "output_type": "display_data",
          "data": {
            "text/plain": [
              "<Figure size 640x480 with 2 Axes>"
            ],
            "image/png": "[encoded data removed]"
          },
          "metadata": {}
        }
      ]
    },
    {
      "cell_type": "markdown",
      "metadata": {
        "id": "6VjhZySBNMUU"
      },
      "source": [
        "-  Overall, `XGBoost` and `AdaBoost` has emerged as the most suitable models for predicting loan repayment behavior based on the given dataset. Additional techniques like hyperparameter tuning could be explored to further enhance the performance of the models."
      ]
    },
    {
      "cell_type": "markdown",
      "metadata": {
        "id": "iBSfiCK7jyMu"
      },
      "source": [
        "### Hyperparameter Tuning"
      ]
    },
    {
      "cell_type": "code",
      "source": [
        "from sklearn.model_selection import StratifiedKFold\n",
        "skf = StratifiedKFold(n_splits=5, random_state=42, shuffle=True)\n",
        "\n",
        "# XGBoost with StratifiedKFold\n",
        "accuracy_xgb_folds = []\n",
        "f1_xgb_folds = []\n",
        "for train_index, test_index in skf.split(x_train_sm, y_train_sm):\n",
        "    x_train_fold, x_test_fold = x_train_sm.iloc[train_index], x_train_sm.iloc[test_index]\n",
        "    y_train_fold, y_test_fold = y_train_sm.iloc[train_index], y_train_sm.iloc[test_index]\n",
        "    xgb_model.fit(x_train_fold, y_train_fold)\n",
        "    y_pred_xgb_fold = xgb_model.predict(x_test_fold)\n",
        "    accuracy_xgb_folds.append(accuracy_score(y_test_fold, y_pred_xgb_fold))\n",
        "    f1_xgb_folds.append(f1_score(y_test_fold, y_pred_xgb_fold))\n",
        "avg_accuracy_xgb = round(np.mean(accuracy_xgb_folds) * 100, 2)\n",
        "avg_f1_xgb = round(np.mean(f1_xgb_folds) * 100, 2)\n",
        "print(f'Average XGBoost Accuracy with StratifiedKFold: {avg_accuracy_xgb}%')\n",
        "print(f'Average XGBoost F1 Score with StratifiedKFold: {avg_f1_xgb}%')\n",
        "\n",
        "# AdaBoost with StratifiedKFold\n",
        "accuracy_ada_folds = []\n",
        "f1_ada_folds = []\n",
        "for train_index, test_index in skf.split(x_train_sm, y_train_sm):\n",
        "    x_train_fold, x_test_fold = x_train_sm.iloc[train_index], x_train_sm.iloc[test_index]\n",
        "    y_train_fold, y_test_fold = y_train_sm.iloc[train_index], y_train_sm.iloc[test_index]\n",
        "    ada_model.fit(x_train_fold, y_train_fold)\n",
        "    y_pred_ada_fold = ada_model.predict(x_test_fold)\n",
        "    accuracy_ada_folds.append(accuracy_score(y_test_fold, y_pred_ada_fold))\n",
        "    f1_ada_folds.append(f1_score(y_test_fold, y_pred_ada_fold))\n",
        "avg_accuracy_ada = round(np.mean(accuracy_ada_folds) * 100, 2)\n",
        "avg_f1_ada = round(np.mean(f1_ada_folds) * 100, 2)\n",
        "print(f'Average AdaBoost Accuracy with StratifiedKFold: {avg_accuracy_ada}%')\n",
        "print(f'Average AdaBoost F1 Score with StratifiedKFold: {avg_f1_ada}%')"
      ],
      "metadata": {
        "colab": {
          "base_uri": "https://localhost:8080/"
        },
        "id": "_iaocyoDCNsI",
        "outputId": "3cd5b9a8-9891-4dc6-ed29-ed4186d07cdb"
      },
      "execution_count": 63,
      "outputs": [
        {
          "output_type": "stream",
          "name": "stdout",
          "text": [
            "Average XGBoost Accuracy with StratifiedKFold: 86.64%\n",
            "Average XGBoost F1 Score with StratifiedKFold: 87.84%\n",
            "Average AdaBoost Accuracy with StratifiedKFold: 81.75%\n",
            "Average AdaBoost F1 Score with StratifiedKFold: 82.7%\n"
          ]
        }
      ]
    },
    {
      "cell_type": "markdown",
      "source": [
        "- Therefore, the `XGBoost` model with *StratifiedKFold cross-validation* is the preferred choice for predicting loan repayment behavior based on the given dataset. Its superior accuracy and F1 score indicate its effectiveness in capturing the underlying patterns and making reliable predictions."
      ],
      "metadata": {
        "id": "KoXTqhKfRL32"
      }
    },
    {
      "cell_type": "markdown",
      "metadata": {
        "id": "tY7exe_wRbxN"
      },
      "source": [
        "### Target prediction for test data"
      ]
    },
    {
      "cell_type": "code",
      "source": [
        "y_pred_xgb_test = xgb_model.predict(df_test)\n",
        "\n",
        "label_mapping = {0: 'Defaulted', 1: 'Paid'} # Mapping dictionary\n",
        "predicted_results = [label_mapping[label] for label in y_pred_xgb_test] # Mapping predicted labels to categories\n",
        "\n",
        "df_test['loan_status'] = predicted_results\n",
        "df_test[['loan_status']].to_csv('test_loan_results.csv', index=False)"
      ],
      "metadata": {
        "id": "SneS3WUGLmkH"
      },
      "execution_count": 64,
      "outputs": []
    },
    {
      "cell_type": "code",
      "source": [
        "df_results = pd.read_csv('test_loan_results.csv')\n",
        "df_results.head()"
      ],
      "metadata": {
        "colab": {
          "base_uri": "https://localhost:8080/",
          "height": 206
        },
        "id": "WhewZPRNPNRg",
        "outputId": "fbe67452-31c4-40d7-c28c-504476675911"
      },
      "execution_count": 65,
      "outputs": [
        {
          "output_type": "execute_result",
          "data": {
            "text/plain": [
              "  loan_status\n",
              "0   Defaulted\n",
              "1        Paid\n",
              "2        Paid\n",
              "3   Defaulted\n",
              "4        Paid"
            ],
            "text/html": [
              "\n",
              "  <div id=\"df-5389a510-34ba-4648-a829-aa668948d160\" class=\"colab-df-container\">\n",
              "    <div>\n",
              "<style scoped>\n",
              "    .dataframe tbody tr th:only-of-type {\n",
              "        vertical-align: middle;\n",
              "    }\n",
              "\n",
              "    .dataframe tbody tr th {\n",
              "        vertical-align: top;\n",
              "    }\n",
              "\n",
              "    .dataframe thead th {\n",
              "        text-align: right;\n",
              "    }\n",
              "</style>\n",
              "<table border=\"1\" class=\"dataframe\">\n",
              "  <thead>\n",
              "    <tr style=\"text-align: right;\">\n",
              "      <th></th>\n",
              "      <th>loan_status</th>\n",
              "    </tr>\n",
              "  </thead>\n",
              "  <tbody>\n",
              "    <tr>\n",
              "      <th>0</th>\n",
              "      <td>Defaulted</td>\n",
              "    </tr>\n",
              "    <tr>\n",
              "      <th>1</th>\n",
              "      <td>Paid</td>\n",
              "    </tr>\n",
              "    <tr>\n",
              "      <th>2</th>\n",
              "      <td>Paid</td>\n",
              "    </tr>\n",
              "    <tr>\n",
              "      <th>3</th>\n",
              "      <td>Defaulted</td>\n",
              "    </tr>\n",
              "    <tr>\n",
              "      <th>4</th>\n",
              "      <td>Paid</td>\n",
              "    </tr>\n",
              "  </tbody>\n",
              "</table>\n",
              "</div>\n",
              "    <div class=\"colab-df-buttons\">\n",
              "\n",
              "  <div class=\"colab-df-container\">\n",
              "    <button class=\"colab-df-convert\" onclick=\"convertToInteractive('df-5389a510-34ba-4648-a829-aa668948d160')\"\n",
              "            title=\"Convert this dataframe to an interactive table.\"\n",
              "            style=\"display:none;\">\n",
              "\n",
              "  <svg xmlns=\"http://www.w3.org/2000/svg\" height=\"24px\" viewBox=\"0 -960 960 960\">\n",
              "    <path d=\"M120-120v-720h720v720H120Zm60-500h600v-160H180v160Zm220 220h160v-160H400v160Zm0 220h160v-160H400v160ZM180-400h160v-160H180v160Zm440 0h160v-160H620v160ZM180-180h160v-160H180v160Zm440 0h160v-160H620v160Z\"/>\n",
              "  </svg>\n",
              "    </button>\n",
              "\n",
              "  <style>\n",
              "    .colab-df-container {\n",
              "      display:flex;\n",
              "      gap: 12px;\n",
              "    }\n",
              "\n",
              "    .colab-df-convert {\n",
              "      background-color: #E8F0FE;\n",
              "      border: none;\n",
              "      border-radius: 50%;\n",
              "      cursor: pointer;\n",
              "      display: none;\n",
              "      fill: #1967D2;\n",
              "      height: 32px;\n",
              "      padding: 0 0 0 0;\n",
              "      width: 32px;\n",
              "    }\n",
              "\n",
              "    .colab-df-convert:hover {\n",
              "      background-color: #E2EBFA;\n",
              "      box-shadow: 0px 1px 2px rgba(60, 64, 67, 0.3), 0px 1px 3px 1px rgba(60, 64, 67, 0.15);\n",
              "      fill: #174EA6;\n",
              "    }\n",
              "\n",
              "    .colab-df-buttons div {\n",
              "      margin-bottom: 4px;\n",
              "    }\n",
              "\n",
              "    [theme=dark] .colab-df-convert {\n",
              "      background-color: #3B4455;\n",
              "      fill: #D2E3FC;\n",
              "    }\n",
              "\n",
              "    [theme=dark] .colab-df-convert:hover {\n",
              "      background-color: #434B5C;\n",
              "      box-shadow: 0px 1px 3px 1px rgba(0, 0, 0, 0.15);\n",
              "      filter: drop-shadow(0px 1px 2px rgba(0, 0, 0, 0.3));\n",
              "      fill: #FFFFFF;\n",
              "    }\n",
              "  </style>\n",
              "\n",
              "    <script>\n",
              "      const buttonEl =\n",
              "        document.querySelector('#df-5389a510-34ba-4648-a829-aa668948d160 button.colab-df-convert');\n",
              "      buttonEl.style.display =\n",
              "        google.colab.kernel.accessAllowed ? 'block' : 'none';\n",
              "\n",
              "      async function convertToInteractive(key) {\n",
              "        const element = document.querySelector('#df-5389a510-34ba-4648-a829-aa668948d160');\n",
              "        const dataTable =\n",
              "          await google.colab.kernel.invokeFunction('convertToInteractive',\n",
              "                                                    [key], {});\n",
              "        if (!dataTable) return;\n",
              "\n",
              "        const docLinkHtml = 'Like what you see? Visit the ' +\n",
              "          '<a target=\"_blank\" href=https://colab.research.google.com/notebooks/data_table.ipynb>data table notebook</a>'\n",
              "          + ' to learn more about interactive tables.';\n",
              "        element.innerHTML = '';\n",
              "        dataTable['output_type'] = 'display_data';\n",
              "        await google.colab.output.renderOutput(dataTable, element);\n",
              "        const docLink = document.createElement('div');\n",
              "        docLink.innerHTML = docLinkHtml;\n",
              "        element.appendChild(docLink);\n",
              "      }\n",
              "    </script>\n",
              "  </div>\n",
              "\n",
              "\n",
              "<div id=\"df-91c799a6-b39c-4160-811d-735038b943b8\">\n",
              "  <button class=\"colab-df-quickchart\" onclick=\"quickchart('df-91c799a6-b39c-4160-811d-735038b943b8')\"\n",
              "            title=\"Suggest charts\"\n",
              "            style=\"display:none;\">\n",
              "\n",
              "<svg xmlns=\"http://www.w3.org/2000/svg\" height=\"24px\"viewBox=\"0 0 24 24\"\n",
              "     width=\"24px\">\n",
              "    <g>\n",
              "        <path d=\"M19 3H5c-1.1 0-2 .9-2 2v14c0 1.1.9 2 2 2h14c1.1 0 2-.9 2-2V5c0-1.1-.9-2-2-2zM9 17H7v-7h2v7zm4 0h-2V7h2v10zm4 0h-2v-4h2v4z\"/>\n",
              "    </g>\n",
              "</svg>\n",
              "  </button>\n",
              "\n",
              "<style>\n",
              "  .colab-df-quickchart {\n",
              "      --bg-color: #E8F0FE;\n",
              "      --fill-color: #1967D2;\n",
              "      --hover-bg-color: #E2EBFA;\n",
              "      --hover-fill-color: #174EA6;\n",
              "      --disabled-fill-color: #AAA;\n",
              "      --disabled-bg-color: #DDD;\n",
              "  }\n",
              "\n",
              "  [theme=dark] .colab-df-quickchart {\n",
              "      --bg-color: #3B4455;\n",
              "      --fill-color: #D2E3FC;\n",
              "      --hover-bg-color: #434B5C;\n",
              "      --hover-fill-color: #FFFFFF;\n",
              "      --disabled-bg-color: #3B4455;\n",
              "      --disabled-fill-color: #666;\n",
              "  }\n",
              "\n",
              "  .colab-df-quickchart {\n",
              "    background-color: var(--bg-color);\n",
              "    border: none;\n",
              "    border-radius: 50%;\n",
              "    cursor: pointer;\n",
              "    display: none;\n",
              "    fill: var(--fill-color);\n",
              "    height: 32px;\n",
              "    padding: 0;\n",
              "    width: 32px;\n",
              "  }\n",
              "\n",
              "  .colab-df-quickchart:hover {\n",
              "    background-color: var(--hover-bg-color);\n",
              "    box-shadow: 0 1px 2px rgba(60, 64, 67, 0.3), 0 1px 3px 1px rgba(60, 64, 67, 0.15);\n",
              "    fill: var(--button-hover-fill-color);\n",
              "  }\n",
              "\n",
              "  .colab-df-quickchart-complete:disabled,\n",
              "  .colab-df-quickchart-complete:disabled:hover {\n",
              "    background-color: var(--disabled-bg-color);\n",
              "    fill: var(--disabled-fill-color);\n",
              "    box-shadow: none;\n",
              "  }\n",
              "\n",
              "  .colab-df-spinner {\n",
              "    border: 2px solid var(--fill-color);\n",
              "    border-color: transparent;\n",
              "    border-bottom-color: var(--fill-color);\n",
              "    animation:\n",
              "      spin 1s steps(1) infinite;\n",
              "  }\n",
              "\n",
              "  @keyframes spin {\n",
              "    0% {\n",
              "      border-color: transparent;\n",
              "      border-bottom-color: var(--fill-color);\n",
              "      border-left-color: var(--fill-color);\n",
              "    }\n",
              "    20% {\n",
              "      border-color: transparent;\n",
              "      border-left-color: var(--fill-color);\n",
              "      border-top-color: var(--fill-color);\n",
              "    }\n",
              "    30% {\n",
              "      border-color: transparent;\n",
              "      border-left-color: var(--fill-color);\n",
              "      border-top-color: var(--fill-color);\n",
              "      border-right-color: var(--fill-color);\n",
              "    }\n",
              "    40% {\n",
              "      border-color: transparent;\n",
              "      border-right-color: var(--fill-color);\n",
              "      border-top-color: var(--fill-color);\n",
              "    }\n",
              "    60% {\n",
              "      border-color: transparent;\n",
              "      border-right-color: var(--fill-color);\n",
              "    }\n",
              "    80% {\n",
              "      border-color: transparent;\n",
              "      border-right-color: var(--fill-color);\n",
              "      border-bottom-color: var(--fill-color);\n",
              "    }\n",
              "    90% {\n",
              "      border-color: transparent;\n",
              "      border-bottom-color: var(--fill-color);\n",
              "    }\n",
              "  }\n",
              "</style>\n",
              "\n",
              "  <script>\n",
              "    async function quickchart(key) {\n",
              "      const quickchartButtonEl =\n",
              "        document.querySelector('#' + key + ' button');\n",
              "      quickchartButtonEl.disabled = true;  // To prevent multiple clicks.\n",
              "      quickchartButtonEl.classList.add('colab-df-spinner');\n",
              "      try {\n",
              "        const charts = await google.colab.kernel.invokeFunction(\n",
              "            'suggestCharts', [key], {});\n",
              "      } catch (error) {\n",
              "        console.error('Error during call to suggestCharts:', error);\n",
              "      }\n",
              "      quickchartButtonEl.classList.remove('colab-df-spinner');\n",
              "      quickchartButtonEl.classList.add('colab-df-quickchart-complete');\n",
              "    }\n",
              "    (() => {\n",
              "      let quickchartButtonEl =\n",
              "        document.querySelector('#df-91c799a6-b39c-4160-811d-735038b943b8 button');\n",
              "      quickchartButtonEl.style.display =\n",
              "        google.colab.kernel.accessAllowed ? 'block' : 'none';\n",
              "    })();\n",
              "  </script>\n",
              "</div>\n",
              "\n",
              "    </div>\n",
              "  </div>\n"
            ],
            "application/vnd.google.colaboratory.intrinsic+json": {
              "type": "dataframe",
              "variable_name": "df_results",
              "summary": "{\n  \"name\": \"df_results\",\n  \"rows\": 20000,\n  \"fields\": [\n    {\n      \"column\": \"loan_status\",\n      \"properties\": {\n        \"dtype\": \"category\",\n        \"num_unique_values\": 2,\n        \"samples\": [\n          \"Paid\",\n          \"Defaulted\"\n        ],\n        \"semantic_type\": \"\",\n        \"description\": \"\"\n      }\n    }\n  ]\n}"
            }
          },
          "metadata": {},
          "execution_count": 65
        }
      ]
    },
    {
      "cell_type": "markdown",
      "source": [
        "## Conclusion"
      ],
      "metadata": {
        "id": "Op9V4HDqQ4JH"
      }
    },
    {
      "cell_type": "markdown",
      "source": [
        "- In conclusion, the analysis and modeling efforts carried out on the loan repayment dataset have yielded valuable insights and enabled the prediction of loan status for the test data. XGBoost emerged as the most suitable model for this task, with an average accuracy of 86.64% and an average F1 score of 87.84% when evaluated using StratifiedKFold cross-validation. By leveraging this model, we successfully predicted the loan repayment behavior for the test dataset and exported the results to a CSV file.\n",
        "\n",
        "- These findings hold practical significance for financial institutions and lending organizations, as they can utilize the developed model to assess the creditworthiness of potential borrowers more accurately. This can lead to improved risk management, reduced loan defaults, and ultimately, enhanced financial stability.\n",
        "\n",
        "- Further enhancements to the model could involve exploring additional data sources, incorporating domain knowledge, and experimenting with different hyperparameter tuning strategies. Additionally, investigating other machine learning algorithms or ensemble methods could potentially yield even better results.\n",
        "\n",
        "- Overall, the project successfully addressed the challenge of predicting loan repayment behavior based on the provided dataset, offering valuable insights and a robust model for future use."
      ],
      "metadata": {
        "id": "LDrKYrEcTFCv"
      }
    }
  ],
  "metadata": {
    "colab": {
      "provenance": [],
      "collapsed_sections": [
        "OaHWeN8-ENru",
        "Aj4bQB5IHKW7",
        "IZ6dgtLPI_-1",
        "UIvPZ7LRJ_-B",
        "OpGGBk80OGYf",
        "mNFJZ81ygFZF",
        "IvvG33GO1I2W",
        "AdKbG1a_4_zM",
        "Kk4whQHMCCo2",
        "CM5Iz6ZV9-r8",
        "iBSfiCK7jyMu",
        "tY7exe_wRbxN",
        "Op9V4HDqQ4JH"
      ]
    },
    "kernelspec": {
      "display_name": "Python 3",
      "name": "python3"
    },
    "language_info": {
      "name": "python"
    }
  },
  "nbformat": 4,
  "nbformat_minor": 0
}